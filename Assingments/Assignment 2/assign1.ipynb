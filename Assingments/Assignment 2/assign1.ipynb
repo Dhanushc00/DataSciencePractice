{
 "metadata": {
  "language_info": {
   "codemirror_mode": {
    "name": "ipython",
    "version": 3
   },
   "file_extension": ".py",
   "mimetype": "text/x-python",
   "name": "python",
   "nbconvert_exporter": "python",
   "pygments_lexer": "ipython3",
   "version": "3.7.6-final"
  },
  "orig_nbformat": 2,
  "kernelspec": {
   "name": "python_defaultSpec_1598855794053",
   "display_name": "Python 3.7.6 64-bit ('base': conda)"
  }
 },
 "nbformat": 4,
 "nbformat_minor": 2,
 "cells": [
  {
   "cell_type": "code",
   "execution_count": 510,
   "metadata": {},
   "outputs": [],
   "source": [
    "import pandas as pd \n",
    "import numpy as np"
   ]
  },
  {
   "cell_type": "code",
   "execution_count": 511,
   "metadata": {},
   "outputs": [
    {
     "output_type": "execute_result",
     "data": {
      "text/plain": "   TIME                            GEO  \\\n0  2000  European Union (28 countries)   \n1  2001  European Union (28 countries)   \n2  2002  European Union (28 countries)   \n3  2003  European Union (28 countries)   \n4  2004  European Union (28 countries)   \n\n                                            INDIC_ED Value Flag and Footnotes  \n0  Total public expenditure on education as % of ...     :                NaN  \n1  Total public expenditure on education as % of ...     :                NaN  \n2  Total public expenditure on education as % of ...  5.00                  e  \n3  Total public expenditure on education as % of ...  5.03                  e  \n4  Total public expenditure on education as % of ...  4.95                  e  ",
      "text/html": "<div>\n<style scoped>\n    .dataframe tbody tr th:only-of-type {\n        vertical-align: middle;\n    }\n\n    .dataframe tbody tr th {\n        vertical-align: top;\n    }\n\n    .dataframe thead th {\n        text-align: right;\n    }\n</style>\n<table border=\"1\" class=\"dataframe\">\n  <thead>\n    <tr style=\"text-align: right;\">\n      <th></th>\n      <th>TIME</th>\n      <th>GEO</th>\n      <th>INDIC_ED</th>\n      <th>Value</th>\n      <th>Flag and Footnotes</th>\n    </tr>\n  </thead>\n  <tbody>\n    <tr>\n      <th>0</th>\n      <td>2000</td>\n      <td>European Union (28 countries)</td>\n      <td>Total public expenditure on education as % of ...</td>\n      <td>:</td>\n      <td>NaN</td>\n    </tr>\n    <tr>\n      <th>1</th>\n      <td>2001</td>\n      <td>European Union (28 countries)</td>\n      <td>Total public expenditure on education as % of ...</td>\n      <td>:</td>\n      <td>NaN</td>\n    </tr>\n    <tr>\n      <th>2</th>\n      <td>2002</td>\n      <td>European Union (28 countries)</td>\n      <td>Total public expenditure on education as % of ...</td>\n      <td>5.00</td>\n      <td>e</td>\n    </tr>\n    <tr>\n      <th>3</th>\n      <td>2003</td>\n      <td>European Union (28 countries)</td>\n      <td>Total public expenditure on education as % of ...</td>\n      <td>5.03</td>\n      <td>e</td>\n    </tr>\n    <tr>\n      <th>4</th>\n      <td>2004</td>\n      <td>European Union (28 countries)</td>\n      <td>Total public expenditure on education as % of ...</td>\n      <td>4.95</td>\n      <td>e</td>\n    </tr>\n  </tbody>\n</table>\n</div>"
     },
     "metadata": {},
     "execution_count": 511
    }
   ],
   "source": [
    "df=pd.read_csv('data.csv',sep=\",\")\n",
    "df.head()"
   ]
  },
  {
   "cell_type": "code",
   "execution_count": 512,
   "metadata": {},
   "outputs": [
    {
     "output_type": "execute_result",
     "data": {
      "text/plain": "     TIME                            GEO Value\n0    2000  European Union (28 countries)     :\n1    2001  European Union (28 countries)     :\n2    2002  European Union (28 countries)  5.00\n3    2003  European Union (28 countries)  5.03\n4    2004  European Union (28 countries)  4.95\n..    ...                            ...   ...\n379  2007                        Finland  5.90\n380  2008                        Finland  6.10\n381  2009                        Finland  6.81\n382  2010                        Finland  6.85\n383  2011                        Finland  6.76\n\n[384 rows x 3 columns]",
      "text/html": "<div>\n<style scoped>\n    .dataframe tbody tr th:only-of-type {\n        vertical-align: middle;\n    }\n\n    .dataframe tbody tr th {\n        vertical-align: top;\n    }\n\n    .dataframe thead th {\n        text-align: right;\n    }\n</style>\n<table border=\"1\" class=\"dataframe\">\n  <thead>\n    <tr style=\"text-align: right;\">\n      <th></th>\n      <th>TIME</th>\n      <th>GEO</th>\n      <th>Value</th>\n    </tr>\n  </thead>\n  <tbody>\n    <tr>\n      <th>0</th>\n      <td>2000</td>\n      <td>European Union (28 countries)</td>\n      <td>:</td>\n    </tr>\n    <tr>\n      <th>1</th>\n      <td>2001</td>\n      <td>European Union (28 countries)</td>\n      <td>:</td>\n    </tr>\n    <tr>\n      <th>2</th>\n      <td>2002</td>\n      <td>European Union (28 countries)</td>\n      <td>5.00</td>\n    </tr>\n    <tr>\n      <th>3</th>\n      <td>2003</td>\n      <td>European Union (28 countries)</td>\n      <td>5.03</td>\n    </tr>\n    <tr>\n      <th>4</th>\n      <td>2004</td>\n      <td>European Union (28 countries)</td>\n      <td>4.95</td>\n    </tr>\n    <tr>\n      <th>...</th>\n      <td>...</td>\n      <td>...</td>\n      <td>...</td>\n    </tr>\n    <tr>\n      <th>379</th>\n      <td>2007</td>\n      <td>Finland</td>\n      <td>5.90</td>\n    </tr>\n    <tr>\n      <th>380</th>\n      <td>2008</td>\n      <td>Finland</td>\n      <td>6.10</td>\n    </tr>\n    <tr>\n      <th>381</th>\n      <td>2009</td>\n      <td>Finland</td>\n      <td>6.81</td>\n    </tr>\n    <tr>\n      <th>382</th>\n      <td>2010</td>\n      <td>Finland</td>\n      <td>6.85</td>\n    </tr>\n    <tr>\n      <th>383</th>\n      <td>2011</td>\n      <td>Finland</td>\n      <td>6.76</td>\n    </tr>\n  </tbody>\n</table>\n<p>384 rows × 3 columns</p>\n</div>"
     },
     "metadata": {},
     "execution_count": 512
    }
   ],
   "source": [
    "df.loc[:,[\"TIME\",\"GEO\",\"Value\"]]"
   ]
  },
  {
   "cell_type": "code",
   "execution_count": 513,
   "metadata": {},
   "outputs": [],
   "source": [
    "df.replace(to_replace=\":\",value=np.nan,inplace=True)"
   ]
  },
  {
   "cell_type": "code",
   "execution_count": 514,
   "metadata": {},
   "outputs": [
    {
     "output_type": "execute_result",
     "data": {
      "text/plain": "   TIME                            GEO  \\\n0  2000  European Union (28 countries)   \n1  2001  European Union (28 countries)   \n2  2002  European Union (28 countries)   \n3  2003  European Union (28 countries)   \n4  2004  European Union (28 countries)   \n\n                                            INDIC_ED Value Flag and Footnotes  \n0  Total public expenditure on education as % of ...   NaN                NaN  \n1  Total public expenditure on education as % of ...   NaN                NaN  \n2  Total public expenditure on education as % of ...  5.00                  e  \n3  Total public expenditure on education as % of ...  5.03                  e  \n4  Total public expenditure on education as % of ...  4.95                  e  ",
      "text/html": "<div>\n<style scoped>\n    .dataframe tbody tr th:only-of-type {\n        vertical-align: middle;\n    }\n\n    .dataframe tbody tr th {\n        vertical-align: top;\n    }\n\n    .dataframe thead th {\n        text-align: right;\n    }\n</style>\n<table border=\"1\" class=\"dataframe\">\n  <thead>\n    <tr style=\"text-align: right;\">\n      <th></th>\n      <th>TIME</th>\n      <th>GEO</th>\n      <th>INDIC_ED</th>\n      <th>Value</th>\n      <th>Flag and Footnotes</th>\n    </tr>\n  </thead>\n  <tbody>\n    <tr>\n      <th>0</th>\n      <td>2000</td>\n      <td>European Union (28 countries)</td>\n      <td>Total public expenditure on education as % of ...</td>\n      <td>NaN</td>\n      <td>NaN</td>\n    </tr>\n    <tr>\n      <th>1</th>\n      <td>2001</td>\n      <td>European Union (28 countries)</td>\n      <td>Total public expenditure on education as % of ...</td>\n      <td>NaN</td>\n      <td>NaN</td>\n    </tr>\n    <tr>\n      <th>2</th>\n      <td>2002</td>\n      <td>European Union (28 countries)</td>\n      <td>Total public expenditure on education as % of ...</td>\n      <td>5.00</td>\n      <td>e</td>\n    </tr>\n    <tr>\n      <th>3</th>\n      <td>2003</td>\n      <td>European Union (28 countries)</td>\n      <td>Total public expenditure on education as % of ...</td>\n      <td>5.03</td>\n      <td>e</td>\n    </tr>\n    <tr>\n      <th>4</th>\n      <td>2004</td>\n      <td>European Union (28 countries)</td>\n      <td>Total public expenditure on education as % of ...</td>\n      <td>4.95</td>\n      <td>e</td>\n    </tr>\n  </tbody>\n</table>\n</div>"
     },
     "metadata": {},
     "execution_count": 514
    }
   ],
   "source": [
    "df.head()"
   ]
  },
  {
   "cell_type": "code",
   "execution_count": 515,
   "metadata": {},
   "outputs": [
    {
     "output_type": "execute_result",
     "data": {
      "text/plain": "TIME                   int64\nGEO                   object\nINDIC_ED              object\nValue                 object\nFlag and Footnotes    object\ndtype: object"
     },
     "metadata": {},
     "execution_count": 515
    }
   ],
   "source": [
    "df.dtypes"
   ]
  },
  {
   "cell_type": "code",
   "execution_count": 516,
   "metadata": {},
   "outputs": [],
   "source": [
    "df.Value=df.Value.astype('float')"
   ]
  },
  {
   "cell_type": "code",
   "execution_count": 517,
   "metadata": {},
   "outputs": [
    {
     "output_type": "execute_result",
     "data": {
      "text/plain": "5.203988919667592"
     },
     "metadata": {},
     "execution_count": 517
    }
   ],
   "source": [
    "df.Value.mean()"
   ]
  },
  {
   "cell_type": "code",
   "execution_count": 518,
   "metadata": {},
   "outputs": [],
   "source": [
    "df['Value']=df['Value'].fillna(value=df.Value.mean())"
   ]
  },
  {
   "cell_type": "code",
   "execution_count": 519,
   "metadata": {},
   "outputs": [],
   "source": [
    "df['Flag and Footnotes']=df['Flag and Footnotes'].fillna(method='ffill').fillna(method='bfill')"
   ]
  },
  {
   "cell_type": "code",
   "execution_count": 520,
   "metadata": {},
   "outputs": [
    {
     "output_type": "execute_result",
     "data": {
      "text/plain": "   TIME                            GEO  \\\n0  2000  European Union (28 countries)   \n1  2001  European Union (28 countries)   \n2  2002  European Union (28 countries)   \n3  2003  European Union (28 countries)   \n4  2004  European Union (28 countries)   \n\n                                            INDIC_ED     Value  \\\n0  Total public expenditure on education as % of ...  5.203989   \n1  Total public expenditure on education as % of ...  5.203989   \n2  Total public expenditure on education as % of ...  5.000000   \n3  Total public expenditure on education as % of ...  5.030000   \n4  Total public expenditure on education as % of ...  4.950000   \n\n  Flag and Footnotes  \n0                  e  \n1                  e  \n2                  e  \n3                  e  \n4                  e  ",
      "text/html": "<div>\n<style scoped>\n    .dataframe tbody tr th:only-of-type {\n        vertical-align: middle;\n    }\n\n    .dataframe tbody tr th {\n        vertical-align: top;\n    }\n\n    .dataframe thead th {\n        text-align: right;\n    }\n</style>\n<table border=\"1\" class=\"dataframe\">\n  <thead>\n    <tr style=\"text-align: right;\">\n      <th></th>\n      <th>TIME</th>\n      <th>GEO</th>\n      <th>INDIC_ED</th>\n      <th>Value</th>\n      <th>Flag and Footnotes</th>\n    </tr>\n  </thead>\n  <tbody>\n    <tr>\n      <th>0</th>\n      <td>2000</td>\n      <td>European Union (28 countries)</td>\n      <td>Total public expenditure on education as % of ...</td>\n      <td>5.203989</td>\n      <td>e</td>\n    </tr>\n    <tr>\n      <th>1</th>\n      <td>2001</td>\n      <td>European Union (28 countries)</td>\n      <td>Total public expenditure on education as % of ...</td>\n      <td>5.203989</td>\n      <td>e</td>\n    </tr>\n    <tr>\n      <th>2</th>\n      <td>2002</td>\n      <td>European Union (28 countries)</td>\n      <td>Total public expenditure on education as % of ...</td>\n      <td>5.000000</td>\n      <td>e</td>\n    </tr>\n    <tr>\n      <th>3</th>\n      <td>2003</td>\n      <td>European Union (28 countries)</td>\n      <td>Total public expenditure on education as % of ...</td>\n      <td>5.030000</td>\n      <td>e</td>\n    </tr>\n    <tr>\n      <th>4</th>\n      <td>2004</td>\n      <td>European Union (28 countries)</td>\n      <td>Total public expenditure on education as % of ...</td>\n      <td>4.950000</td>\n      <td>e</td>\n    </tr>\n  </tbody>\n</table>\n</div>"
     },
     "metadata": {},
     "execution_count": 520
    }
   ],
   "source": [
    "df.head()"
   ]
  },
  {
   "cell_type": "code",
   "execution_count": 521,
   "metadata": {},
   "outputs": [
    {
     "output_type": "execute_result",
     "data": {
      "text/plain": "     TIME                            GEO  \\\n11   2011  European Union (28 countries)   \n23   2011  European Union (27 countries)   \n35   2011  European Union (25 countries)   \n47   2011       Euro area (18 countries)   \n59   2011       Euro area (17 countries)   \n71   2011       Euro area (15 countries)   \n83   2011       Euro area (13 countries)   \n95   2011                        Belgium   \n131  2011                        Denmark   \n155  2011                        Estonia   \n167  2011                        Ireland   \n179  2011                         Greece   \n203  2011                         France   \n227  2011                         Cyprus   \n251  2011                      Lithuania   \n263  2011                     Luxembourg   \n287  2011                          Malta   \n299  2011                    Netherlands   \n311  2011                        Austria   \n335  2011                       Portugal   \n359  2011                       Slovenia   \n383  2011                        Finland   \n\n                                              INDIC_ED     Value  \\\n11   Total public expenditure on education as % of ...  5.250000   \n23   Total public expenditure on education as % of ...  5.250000   \n35   Total public expenditure on education as % of ...  5.310000   \n47   Total public expenditure on education as % of ...  5.150000   \n59   Total public expenditure on education as % of ...  5.150000   \n71   Total public expenditure on education as % of ...  5.160000   \n83   Total public expenditure on education as % of ...  5.150000   \n95   Total public expenditure on education as % of ...  6.550000   \n131  Total public expenditure on education as % of ...  8.750000   \n155  Total public expenditure on education as % of ...  5.160000   \n167  Total public expenditure on education as % of ...  6.150000   \n179  Total public expenditure on education as % of ...  5.203989   \n203  Total public expenditure on education as % of ...  5.680000   \n227  Total public expenditure on education as % of ...  7.870000   \n251  Total public expenditure on education as % of ...  5.170000   \n263  Total public expenditure on education as % of ...  5.203989   \n287  Total public expenditure on education as % of ...  7.960000   \n299  Total public expenditure on education as % of ...  5.930000   \n311  Total public expenditure on education as % of ...  5.800000   \n335  Total public expenditure on education as % of ...  5.270000   \n359  Total public expenditure on education as % of ...  5.680000   \n383  Total public expenditure on education as % of ...  6.760000   \n\n    Flag and Footnotes  \n11                   e  \n23                   e  \n35                   e  \n47                   e  \n59                   e  \n71                   e  \n83                   e  \n95                   d  \n131                  d  \n155                  d  \n167                  d  \n179                  i  \n203                  i  \n227                  d  \n251                  d  \n263                  d  \n287                  i  \n299                  i  \n311                  i  \n335                  d  \n359                  u  \n383                  d  ",
      "text/html": "<div>\n<style scoped>\n    .dataframe tbody tr th:only-of-type {\n        vertical-align: middle;\n    }\n\n    .dataframe tbody tr th {\n        vertical-align: top;\n    }\n\n    .dataframe thead th {\n        text-align: right;\n    }\n</style>\n<table border=\"1\" class=\"dataframe\">\n  <thead>\n    <tr style=\"text-align: right;\">\n      <th></th>\n      <th>TIME</th>\n      <th>GEO</th>\n      <th>INDIC_ED</th>\n      <th>Value</th>\n      <th>Flag and Footnotes</th>\n    </tr>\n  </thead>\n  <tbody>\n    <tr>\n      <th>11</th>\n      <td>2011</td>\n      <td>European Union (28 countries)</td>\n      <td>Total public expenditure on education as % of ...</td>\n      <td>5.250000</td>\n      <td>e</td>\n    </tr>\n    <tr>\n      <th>23</th>\n      <td>2011</td>\n      <td>European Union (27 countries)</td>\n      <td>Total public expenditure on education as % of ...</td>\n      <td>5.250000</td>\n      <td>e</td>\n    </tr>\n    <tr>\n      <th>35</th>\n      <td>2011</td>\n      <td>European Union (25 countries)</td>\n      <td>Total public expenditure on education as % of ...</td>\n      <td>5.310000</td>\n      <td>e</td>\n    </tr>\n    <tr>\n      <th>47</th>\n      <td>2011</td>\n      <td>Euro area (18 countries)</td>\n      <td>Total public expenditure on education as % of ...</td>\n      <td>5.150000</td>\n      <td>e</td>\n    </tr>\n    <tr>\n      <th>59</th>\n      <td>2011</td>\n      <td>Euro area (17 countries)</td>\n      <td>Total public expenditure on education as % of ...</td>\n      <td>5.150000</td>\n      <td>e</td>\n    </tr>\n    <tr>\n      <th>71</th>\n      <td>2011</td>\n      <td>Euro area (15 countries)</td>\n      <td>Total public expenditure on education as % of ...</td>\n      <td>5.160000</td>\n      <td>e</td>\n    </tr>\n    <tr>\n      <th>83</th>\n      <td>2011</td>\n      <td>Euro area (13 countries)</td>\n      <td>Total public expenditure on education as % of ...</td>\n      <td>5.150000</td>\n      <td>e</td>\n    </tr>\n    <tr>\n      <th>95</th>\n      <td>2011</td>\n      <td>Belgium</td>\n      <td>Total public expenditure on education as % of ...</td>\n      <td>6.550000</td>\n      <td>d</td>\n    </tr>\n    <tr>\n      <th>131</th>\n      <td>2011</td>\n      <td>Denmark</td>\n      <td>Total public expenditure on education as % of ...</td>\n      <td>8.750000</td>\n      <td>d</td>\n    </tr>\n    <tr>\n      <th>155</th>\n      <td>2011</td>\n      <td>Estonia</td>\n      <td>Total public expenditure on education as % of ...</td>\n      <td>5.160000</td>\n      <td>d</td>\n    </tr>\n    <tr>\n      <th>167</th>\n      <td>2011</td>\n      <td>Ireland</td>\n      <td>Total public expenditure on education as % of ...</td>\n      <td>6.150000</td>\n      <td>d</td>\n    </tr>\n    <tr>\n      <th>179</th>\n      <td>2011</td>\n      <td>Greece</td>\n      <td>Total public expenditure on education as % of ...</td>\n      <td>5.203989</td>\n      <td>i</td>\n    </tr>\n    <tr>\n      <th>203</th>\n      <td>2011</td>\n      <td>France</td>\n      <td>Total public expenditure on education as % of ...</td>\n      <td>5.680000</td>\n      <td>i</td>\n    </tr>\n    <tr>\n      <th>227</th>\n      <td>2011</td>\n      <td>Cyprus</td>\n      <td>Total public expenditure on education as % of ...</td>\n      <td>7.870000</td>\n      <td>d</td>\n    </tr>\n    <tr>\n      <th>251</th>\n      <td>2011</td>\n      <td>Lithuania</td>\n      <td>Total public expenditure on education as % of ...</td>\n      <td>5.170000</td>\n      <td>d</td>\n    </tr>\n    <tr>\n      <th>263</th>\n      <td>2011</td>\n      <td>Luxembourg</td>\n      <td>Total public expenditure on education as % of ...</td>\n      <td>5.203989</td>\n      <td>d</td>\n    </tr>\n    <tr>\n      <th>287</th>\n      <td>2011</td>\n      <td>Malta</td>\n      <td>Total public expenditure on education as % of ...</td>\n      <td>7.960000</td>\n      <td>i</td>\n    </tr>\n    <tr>\n      <th>299</th>\n      <td>2011</td>\n      <td>Netherlands</td>\n      <td>Total public expenditure on education as % of ...</td>\n      <td>5.930000</td>\n      <td>i</td>\n    </tr>\n    <tr>\n      <th>311</th>\n      <td>2011</td>\n      <td>Austria</td>\n      <td>Total public expenditure on education as % of ...</td>\n      <td>5.800000</td>\n      <td>i</td>\n    </tr>\n    <tr>\n      <th>335</th>\n      <td>2011</td>\n      <td>Portugal</td>\n      <td>Total public expenditure on education as % of ...</td>\n      <td>5.270000</td>\n      <td>d</td>\n    </tr>\n    <tr>\n      <th>359</th>\n      <td>2011</td>\n      <td>Slovenia</td>\n      <td>Total public expenditure on education as % of ...</td>\n      <td>5.680000</td>\n      <td>u</td>\n    </tr>\n    <tr>\n      <th>383</th>\n      <td>2011</td>\n      <td>Finland</td>\n      <td>Total public expenditure on education as % of ...</td>\n      <td>6.760000</td>\n      <td>d</td>\n    </tr>\n  </tbody>\n</table>\n</div>"
     },
     "metadata": {},
     "execution_count": 521
    }
   ],
   "source": [
    "df.loc[(df['Value']>5)&(df['TIME']==2011)]"
   ]
  },
  {
   "cell_type": "code",
   "execution_count": 522,
   "metadata": {},
   "outputs": [
    {
     "output_type": "execute_result",
     "data": {
      "text/plain": "TIME                                                               2011\nGEO                                                               Spain\nINDIC_ED              Total public expenditure on education as % of ...\nValue                                                              8.81\nFlag and Footnotes                                                    u\ndtype: object"
     },
     "metadata": {},
     "execution_count": 522
    }
   ],
   "source": [
    "df.max()"
   ]
  },
  {
   "cell_type": "code",
   "execution_count": 523,
   "metadata": {},
   "outputs": [],
   "source": [
    "df['val_sq']=df['Value']*df['Value']"
   ]
  },
  {
   "cell_type": "code",
   "execution_count": 524,
   "metadata": {},
   "outputs": [
    {
     "output_type": "execute_result",
     "data": {
      "text/plain": "   TIME                            GEO  \\\n0  2000  European Union (28 countries)   \n1  2001  European Union (28 countries)   \n2  2002  European Union (28 countries)   \n3  2003  European Union (28 countries)   \n4  2004  European Union (28 countries)   \n\n                                            INDIC_ED     Value  \\\n0  Total public expenditure on education as % of ...  5.203989   \n1  Total public expenditure on education as % of ...  5.203989   \n2  Total public expenditure on education as % of ...  5.000000   \n3  Total public expenditure on education as % of ...  5.030000   \n4  Total public expenditure on education as % of ...  4.950000   \n\n  Flag and Footnotes     val_sq  \n0                  e  27.081501  \n1                  e  27.081501  \n2                  e  25.000000  \n3                  e  25.300900  \n4                  e  24.502500  ",
      "text/html": "<div>\n<style scoped>\n    .dataframe tbody tr th:only-of-type {\n        vertical-align: middle;\n    }\n\n    .dataframe tbody tr th {\n        vertical-align: top;\n    }\n\n    .dataframe thead th {\n        text-align: right;\n    }\n</style>\n<table border=\"1\" class=\"dataframe\">\n  <thead>\n    <tr style=\"text-align: right;\">\n      <th></th>\n      <th>TIME</th>\n      <th>GEO</th>\n      <th>INDIC_ED</th>\n      <th>Value</th>\n      <th>Flag and Footnotes</th>\n      <th>val_sq</th>\n    </tr>\n  </thead>\n  <tbody>\n    <tr>\n      <th>0</th>\n      <td>2000</td>\n      <td>European Union (28 countries)</td>\n      <td>Total public expenditure on education as % of ...</td>\n      <td>5.203989</td>\n      <td>e</td>\n      <td>27.081501</td>\n    </tr>\n    <tr>\n      <th>1</th>\n      <td>2001</td>\n      <td>European Union (28 countries)</td>\n      <td>Total public expenditure on education as % of ...</td>\n      <td>5.203989</td>\n      <td>e</td>\n      <td>27.081501</td>\n    </tr>\n    <tr>\n      <th>2</th>\n      <td>2002</td>\n      <td>European Union (28 countries)</td>\n      <td>Total public expenditure on education as % of ...</td>\n      <td>5.000000</td>\n      <td>e</td>\n      <td>25.000000</td>\n    </tr>\n    <tr>\n      <th>3</th>\n      <td>2003</td>\n      <td>European Union (28 countries)</td>\n      <td>Total public expenditure on education as % of ...</td>\n      <td>5.030000</td>\n      <td>e</td>\n      <td>25.300900</td>\n    </tr>\n    <tr>\n      <th>4</th>\n      <td>2004</td>\n      <td>European Union (28 countries)</td>\n      <td>Total public expenditure on education as % of ...</td>\n      <td>4.950000</td>\n      <td>e</td>\n      <td>24.502500</td>\n    </tr>\n  </tbody>\n</table>\n</div>"
     },
     "metadata": {},
     "execution_count": 524
    }
   ],
   "source": [
    "df.head()"
   ]
  },
  {
   "cell_type": "code",
   "execution_count": 525,
   "metadata": {},
   "outputs": [],
   "source": [
    "df.drop(columns=\"val_sq\",inplace=True)"
   ]
  },
  {
   "cell_type": "code",
   "execution_count": 526,
   "metadata": {},
   "outputs": [
    {
     "output_type": "execute_result",
     "data": {
      "text/plain": "   TIME                            GEO  \\\n0  2000  European Union (28 countries)   \n1  2001  European Union (28 countries)   \n2  2002  European Union (28 countries)   \n3  2003  European Union (28 countries)   \n4  2004  European Union (28 countries)   \n\n                                            INDIC_ED     Value  \\\n0  Total public expenditure on education as % of ...  5.203989   \n1  Total public expenditure on education as % of ...  5.203989   \n2  Total public expenditure on education as % of ...  5.000000   \n3  Total public expenditure on education as % of ...  5.030000   \n4  Total public expenditure on education as % of ...  4.950000   \n\n  Flag and Footnotes  \n0                  e  \n1                  e  \n2                  e  \n3                  e  \n4                  e  ",
      "text/html": "<div>\n<style scoped>\n    .dataframe tbody tr th:only-of-type {\n        vertical-align: middle;\n    }\n\n    .dataframe tbody tr th {\n        vertical-align: top;\n    }\n\n    .dataframe thead th {\n        text-align: right;\n    }\n</style>\n<table border=\"1\" class=\"dataframe\">\n  <thead>\n    <tr style=\"text-align: right;\">\n      <th></th>\n      <th>TIME</th>\n      <th>GEO</th>\n      <th>INDIC_ED</th>\n      <th>Value</th>\n      <th>Flag and Footnotes</th>\n    </tr>\n  </thead>\n  <tbody>\n    <tr>\n      <th>0</th>\n      <td>2000</td>\n      <td>European Union (28 countries)</td>\n      <td>Total public expenditure on education as % of ...</td>\n      <td>5.203989</td>\n      <td>e</td>\n    </tr>\n    <tr>\n      <th>1</th>\n      <td>2001</td>\n      <td>European Union (28 countries)</td>\n      <td>Total public expenditure on education as % of ...</td>\n      <td>5.203989</td>\n      <td>e</td>\n    </tr>\n    <tr>\n      <th>2</th>\n      <td>2002</td>\n      <td>European Union (28 countries)</td>\n      <td>Total public expenditure on education as % of ...</td>\n      <td>5.000000</td>\n      <td>e</td>\n    </tr>\n    <tr>\n      <th>3</th>\n      <td>2003</td>\n      <td>European Union (28 countries)</td>\n      <td>Total public expenditure on education as % of ...</td>\n      <td>5.030000</td>\n      <td>e</td>\n    </tr>\n    <tr>\n      <th>4</th>\n      <td>2004</td>\n      <td>European Union (28 countries)</td>\n      <td>Total public expenditure on education as % of ...</td>\n      <td>4.950000</td>\n      <td>e</td>\n    </tr>\n  </tbody>\n</table>\n</div>"
     },
     "metadata": {},
     "execution_count": 526
    }
   ],
   "source": [
    "df.head()"
   ]
  },
  {
   "cell_type": "code",
   "execution_count": 527,
   "metadata": {},
   "outputs": [],
   "source": [
    "df=df.append({\"TIME\":2000,\"Value\":5.00,\"Flag and Footnotes\":'a'},ignore_index=True)"
   ]
  },
  {
   "cell_type": "code",
   "execution_count": 528,
   "metadata": {},
   "outputs": [
    {
     "output_type": "execute_result",
     "data": {
      "text/plain": "     TIME      GEO                                           INDIC_ED  Value  \\\n380  2008  Finland  Total public expenditure on education as % of ...   6.10   \n381  2009  Finland  Total public expenditure on education as % of ...   6.81   \n382  2010  Finland  Total public expenditure on education as % of ...   6.85   \n383  2011  Finland  Total public expenditure on education as % of ...   6.76   \n384  2000      NaN                                                NaN   5.00   \n\n    Flag and Footnotes  \n380                  d  \n381                  d  \n382                  d  \n383                  d  \n384                  a  ",
      "text/html": "<div>\n<style scoped>\n    .dataframe tbody tr th:only-of-type {\n        vertical-align: middle;\n    }\n\n    .dataframe tbody tr th {\n        vertical-align: top;\n    }\n\n    .dataframe thead th {\n        text-align: right;\n    }\n</style>\n<table border=\"1\" class=\"dataframe\">\n  <thead>\n    <tr style=\"text-align: right;\">\n      <th></th>\n      <th>TIME</th>\n      <th>GEO</th>\n      <th>INDIC_ED</th>\n      <th>Value</th>\n      <th>Flag and Footnotes</th>\n    </tr>\n  </thead>\n  <tbody>\n    <tr>\n      <th>380</th>\n      <td>2008</td>\n      <td>Finland</td>\n      <td>Total public expenditure on education as % of ...</td>\n      <td>6.10</td>\n      <td>d</td>\n    </tr>\n    <tr>\n      <th>381</th>\n      <td>2009</td>\n      <td>Finland</td>\n      <td>Total public expenditure on education as % of ...</td>\n      <td>6.81</td>\n      <td>d</td>\n    </tr>\n    <tr>\n      <th>382</th>\n      <td>2010</td>\n      <td>Finland</td>\n      <td>Total public expenditure on education as % of ...</td>\n      <td>6.85</td>\n      <td>d</td>\n    </tr>\n    <tr>\n      <th>383</th>\n      <td>2011</td>\n      <td>Finland</td>\n      <td>Total public expenditure on education as % of ...</td>\n      <td>6.76</td>\n      <td>d</td>\n    </tr>\n    <tr>\n      <th>384</th>\n      <td>2000</td>\n      <td>NaN</td>\n      <td>NaN</td>\n      <td>5.00</td>\n      <td>a</td>\n    </tr>\n  </tbody>\n</table>\n</div>"
     },
     "metadata": {},
     "execution_count": 528
    }
   ],
   "source": [
    "df.tail()"
   ]
  },
  {
   "cell_type": "code",
   "execution_count": 529,
   "metadata": {},
   "outputs": [],
   "source": [
    "df.sort_values('Value',inplace=True,ascending=False)"
   ]
  },
  {
   "cell_type": "code",
   "execution_count": 530,
   "metadata": {},
   "outputs": [
    {
     "output_type": "execute_result",
     "data": {
      "text/plain": "     TIME      GEO                                           INDIC_ED  Value  \\\n130  2010  Denmark  Total public expenditure on education as % of ...   8.81   \n131  2011  Denmark  Total public expenditure on education as % of ...   8.75   \n129  2009  Denmark  Total public expenditure on education as % of ...   8.74   \n121  2001  Denmark  Total public expenditure on education as % of ...   8.44   \n122  2002  Denmark  Total public expenditure on education as % of ...   8.44   \n\n    Flag and Footnotes  \n130                  d  \n131                  d  \n129                  d  \n121                  d  \n122                  d  ",
      "text/html": "<div>\n<style scoped>\n    .dataframe tbody tr th:only-of-type {\n        vertical-align: middle;\n    }\n\n    .dataframe tbody tr th {\n        vertical-align: top;\n    }\n\n    .dataframe thead th {\n        text-align: right;\n    }\n</style>\n<table border=\"1\" class=\"dataframe\">\n  <thead>\n    <tr style=\"text-align: right;\">\n      <th></th>\n      <th>TIME</th>\n      <th>GEO</th>\n      <th>INDIC_ED</th>\n      <th>Value</th>\n      <th>Flag and Footnotes</th>\n    </tr>\n  </thead>\n  <tbody>\n    <tr>\n      <th>130</th>\n      <td>2010</td>\n      <td>Denmark</td>\n      <td>Total public expenditure on education as % of ...</td>\n      <td>8.81</td>\n      <td>d</td>\n    </tr>\n    <tr>\n      <th>131</th>\n      <td>2011</td>\n      <td>Denmark</td>\n      <td>Total public expenditure on education as % of ...</td>\n      <td>8.75</td>\n      <td>d</td>\n    </tr>\n    <tr>\n      <th>129</th>\n      <td>2009</td>\n      <td>Denmark</td>\n      <td>Total public expenditure on education as % of ...</td>\n      <td>8.74</td>\n      <td>d</td>\n    </tr>\n    <tr>\n      <th>121</th>\n      <td>2001</td>\n      <td>Denmark</td>\n      <td>Total public expenditure on education as % of ...</td>\n      <td>8.44</td>\n      <td>d</td>\n    </tr>\n    <tr>\n      <th>122</th>\n      <td>2002</td>\n      <td>Denmark</td>\n      <td>Total public expenditure on education as % of ...</td>\n      <td>8.44</td>\n      <td>d</td>\n    </tr>\n  </tbody>\n</table>\n</div>"
     },
     "metadata": {},
     "execution_count": 530
    }
   ],
   "source": [
    "df.head()"
   ]
  },
  {
   "cell_type": "code",
   "execution_count": 548,
   "metadata": {},
   "outputs": [],
   "source": [
    "g=df.pivot_table(index=\"GEO\",columns=\"TIME\",values=\"Value\", aggfunc='mean')"
   ]
  },
  {
   "cell_type": "code",
   "execution_count": null,
   "metadata": {},
   "outputs": [],
   "source": [
    "#show the mean of the values for each country over all the years"
   ]
  },
  {
   "cell_type": "code",
   "execution_count": 549,
   "metadata": {},
   "outputs": [
    {
     "output_type": "execute_result",
     "data": {
      "text/plain": "TIME                                                  2000      2001  2002  \\\nGEO                                                                          \nAustria                                           5.660000  5.740000  5.68   \nBelgium                                           5.203989  5.990000  6.09   \nBulgaria                                          3.880000  3.700000  3.94   \nCyprus                                            5.420000  5.980000  6.60   \nCzech Republic                                    3.830000  3.930000  4.15   \nDenmark                                           8.280000  8.440000  8.44   \nEstonia                                           5.570000  5.240000  5.47   \nEuro area (13 countries)                          5.203989  4.970000  5.00   \nEuro area (15 countries)                          5.203989  4.980000  5.01   \nEuro area (17 countries)                          5.203989  5.203989  4.86   \nEuro area (18 countries)                          5.203989  5.203989  4.87   \nEuropean Union (25 countries)                     4.940000  5.020000  5.03   \nEuropean Union (27 countries)                     4.910000  4.990000  5.00   \nEuropean Union (28 countries)                     5.203989  5.203989  5.00   \nFinland                                           5.890000  6.060000  6.22   \nFrance                                            6.040000  5.950000  5.90   \nGermany (until 1990 former territory of the FRG)  4.450000  4.510000  4.72   \nGreece                                            3.710000  3.500000  3.57   \nHungary                                           4.500000  5.060000  5.39   \nIreland                                           4.290000  4.240000  4.27   \nItaly                                             4.520000  4.830000  4.60   \nLatvia                                            5.640000  7.220000  6.60   \nLithuania                                         5.630000  5.860000  5.81   \nLuxembourg                                        5.203989  3.750000  3.79   \nMalta                                             4.520000  4.270000  4.22   \nNetherlands                                       4.980000  5.090000  5.22   \nPoland                                            4.870000  5.420000  5.41   \nPortugal                                          5.420000  5.390000  5.33   \nRomania                                           2.880000  3.250000  3.51   \nSlovakia                                          3.920000  3.990000  4.31   \nSlovenia                                          5.203989  5.860000  5.76   \nSpain                                             4.280000  4.240000  4.25   \n\nTIME                                              2003  2004  2005      2006  \\\nGEO                                                                            \nAustria                                           5.53  5.48  5.44  5.400000   \nBelgium                                           6.02  5.95  5.92  5.980000   \nBulgaria                                          4.09  4.40  4.25  4.040000   \nCyprus                                            7.37  6.77  6.95  7.020000   \nCzech Republic                                    4.32  4.20  4.08  4.420000   \nDenmark                                           8.33  8.43  8.30  7.970000   \nEstonia                                           5.29  4.92  4.88  4.700000   \nEuro area (13 countries)                          5.04  4.95  4.89  4.870000   \nEuro area (15 countries)                          5.04  4.96  4.89  4.870000   \nEuro area (17 countries)                          4.89  4.80  4.72  4.690000   \nEuro area (18 countries)                          4.89  4.80  4.72  4.690000   \nEuropean Union (25 countries)                     5.06  4.98  4.95  4.930000   \nEuropean Union (27 countries)                     5.04  4.95  4.92  4.910000   \nEuropean Union (28 countries)                     5.03  4.95  4.92  4.910000   \nFinland                                           6.43  6.42  6.30  6.180000   \nFrance                                            5.92  5.80  5.67  5.610000   \nGermany (until 1990 former territory of the FRG)  4.74  4.62  4.57  4.430000   \nGreece                                            3.56  3.83  4.09  5.203989   \nHungary                                           5.91  5.44  5.46  5.440000   \nIreland                                           4.35  4.66  4.72  4.730000   \nItaly                                             4.72  4.56  4.41  4.670000   \nLatvia                                            5.58  5.12  5.14  5.130000   \nLithuania                                         5.14  5.17  4.88  4.820000   \nLuxembourg                                        3.77  3.87  3.78  3.410000   \nMalta                                             4.48  4.66  6.58  6.450000   \nNetherlands                                       5.47  5.50  5.53  5.500000   \nPoland                                            5.35  5.41  5.47  5.250000   \nPortugal                                          5.38  5.10  5.21  5.070000   \nRomania                                           3.45  3.28  3.48  5.203989   \nSlovakia                                          4.30  4.19  3.85  3.800000   \nSlovenia                                          5.80  5.74  5.73  5.720000   \nSpain                                             4.28  4.25  4.23  4.260000   \n\nTIME                                                  2007      2008  \\\nGEO                                                                    \nAustria                                           5.330000  5.470000   \nBelgium                                           6.000000  6.430000   \nBulgaria                                          3.880000  4.440000   \nCyprus                                            6.950000  7.450000   \nCzech Republic                                    4.050000  3.920000   \nDenmark                                           7.810000  7.680000   \nEstonia                                           4.720000  5.610000   \nEuro area (13 countries)                          4.800000  4.940000   \nEuro area (15 countries)                          4.810000  4.950000   \nEuro area (17 countries)                          4.790000  4.940000   \nEuro area (18 countries)                          4.790000  4.940000   \nEuropean Union (25 countries)                     4.950000  5.060000   \nEuropean Union (27 countries)                     4.930000  5.040000   \nEuropean Union (28 countries)                     4.920000  5.040000   \nFinland                                           5.900000  6.100000   \nFrance                                            5.620000  5.620000   \nGermany (until 1990 former territory of the FRG)  4.490000  4.570000   \nGreece                                            5.203989  5.203989   \nHungary                                           5.290000  5.100000   \nIreland                                           4.920000  5.670000   \nItaly                                             4.270000  4.560000   \nLatvia                                            5.070000  5.710000   \nLithuania                                         4.640000  4.880000   \nLuxembourg                                        3.150000  5.203989   \nMalta                                             6.180000  5.720000   \nNetherlands                                       5.320000  5.500000   \nPoland                                            4.910000  5.080000   \nPortugal                                          5.100000  4.890000   \nRomania                                           4.250000  5.203989   \nSlovakia                                          3.620000  3.610000   \nSlovenia                                          5.150000  5.200000   \nSpain                                             4.340000  4.620000   \n\nTIME                                                  2009      2010      2011  \nGEO                                                                             \nAustria                                           5.980000  5.910000  5.800000  \nBelgium                                           6.570000  6.580000  6.550000  \nBulgaria                                          4.580000  4.100000  3.820000  \nCyprus                                            7.980000  7.920000  7.870000  \nCzech Republic                                    4.360000  4.250000  4.510000  \nDenmark                                           8.740000  8.810000  8.750000  \nEstonia                                           6.030000  5.660000  5.160000  \nEuro area (13 countries)                          5.320000  5.280000  5.150000  \nEuro area (15 countries)                          5.320000  5.290000  5.160000  \nEuro area (17 countries)                          5.310000  5.280000  5.150000  \nEuro area (18 countries)                          5.310000  5.280000  5.150000  \nEuropean Union (25 countries)                     5.410000  5.460000  5.310000  \nEuropean Union (27 countries)                     5.380000  5.410000  5.250000  \nEuropean Union (28 countries)                     5.380000  5.410000  5.250000  \nFinland                                           6.810000  6.850000  6.760000  \nFrance                                            5.900000  5.860000  5.680000  \nGermany (until 1990 former territory of the FRG)  5.060000  5.080000  4.980000  \nGreece                                            5.203989  5.203989  5.203989  \nHungary                                           5.120000  4.900000  4.710000  \nIreland                                           6.430000  6.410000  6.150000  \nItaly                                             4.700000  4.500000  4.290000  \nLatvia                                            5.590000  4.960000  4.960000  \nLithuania                                         5.640000  5.360000  5.170000  \nLuxembourg                                        5.203989  5.203989  5.203989  \nMalta                                             5.320000  6.740000  7.960000  \nNetherlands                                       5.950000  5.980000  5.930000  \nPoland                                            5.090000  5.170000  4.940000  \nPortugal                                          5.790000  5.620000  5.270000  \nRomania                                           4.240000  3.530000  3.070000  \nSlovakia                                          4.090000  4.220000  4.060000  \nSlovenia                                          5.690000  5.680000  5.680000  \nSpain                                             5.020000  4.980000  4.820000  ",
      "text/html": "<div>\n<style scoped>\n    .dataframe tbody tr th:only-of-type {\n        vertical-align: middle;\n    }\n\n    .dataframe tbody tr th {\n        vertical-align: top;\n    }\n\n    .dataframe thead th {\n        text-align: right;\n    }\n</style>\n<table border=\"1\" class=\"dataframe\">\n  <thead>\n    <tr style=\"text-align: right;\">\n      <th>TIME</th>\n      <th>2000</th>\n      <th>2001</th>\n      <th>2002</th>\n      <th>2003</th>\n      <th>2004</th>\n      <th>2005</th>\n      <th>2006</th>\n      <th>2007</th>\n      <th>2008</th>\n      <th>2009</th>\n      <th>2010</th>\n      <th>2011</th>\n    </tr>\n    <tr>\n      <th>GEO</th>\n      <th></th>\n      <th></th>\n      <th></th>\n      <th></th>\n      <th></th>\n      <th></th>\n      <th></th>\n      <th></th>\n      <th></th>\n      <th></th>\n      <th></th>\n      <th></th>\n    </tr>\n  </thead>\n  <tbody>\n    <tr>\n      <th>Austria</th>\n      <td>5.660000</td>\n      <td>5.740000</td>\n      <td>5.68</td>\n      <td>5.53</td>\n      <td>5.48</td>\n      <td>5.44</td>\n      <td>5.400000</td>\n      <td>5.330000</td>\n      <td>5.470000</td>\n      <td>5.980000</td>\n      <td>5.910000</td>\n      <td>5.800000</td>\n    </tr>\n    <tr>\n      <th>Belgium</th>\n      <td>5.203989</td>\n      <td>5.990000</td>\n      <td>6.09</td>\n      <td>6.02</td>\n      <td>5.95</td>\n      <td>5.92</td>\n      <td>5.980000</td>\n      <td>6.000000</td>\n      <td>6.430000</td>\n      <td>6.570000</td>\n      <td>6.580000</td>\n      <td>6.550000</td>\n    </tr>\n    <tr>\n      <th>Bulgaria</th>\n      <td>3.880000</td>\n      <td>3.700000</td>\n      <td>3.94</td>\n      <td>4.09</td>\n      <td>4.40</td>\n      <td>4.25</td>\n      <td>4.040000</td>\n      <td>3.880000</td>\n      <td>4.440000</td>\n      <td>4.580000</td>\n      <td>4.100000</td>\n      <td>3.820000</td>\n    </tr>\n    <tr>\n      <th>Cyprus</th>\n      <td>5.420000</td>\n      <td>5.980000</td>\n      <td>6.60</td>\n      <td>7.37</td>\n      <td>6.77</td>\n      <td>6.95</td>\n      <td>7.020000</td>\n      <td>6.950000</td>\n      <td>7.450000</td>\n      <td>7.980000</td>\n      <td>7.920000</td>\n      <td>7.870000</td>\n    </tr>\n    <tr>\n      <th>Czech Republic</th>\n      <td>3.830000</td>\n      <td>3.930000</td>\n      <td>4.15</td>\n      <td>4.32</td>\n      <td>4.20</td>\n      <td>4.08</td>\n      <td>4.420000</td>\n      <td>4.050000</td>\n      <td>3.920000</td>\n      <td>4.360000</td>\n      <td>4.250000</td>\n      <td>4.510000</td>\n    </tr>\n    <tr>\n      <th>Denmark</th>\n      <td>8.280000</td>\n      <td>8.440000</td>\n      <td>8.44</td>\n      <td>8.33</td>\n      <td>8.43</td>\n      <td>8.30</td>\n      <td>7.970000</td>\n      <td>7.810000</td>\n      <td>7.680000</td>\n      <td>8.740000</td>\n      <td>8.810000</td>\n      <td>8.750000</td>\n    </tr>\n    <tr>\n      <th>Estonia</th>\n      <td>5.570000</td>\n      <td>5.240000</td>\n      <td>5.47</td>\n      <td>5.29</td>\n      <td>4.92</td>\n      <td>4.88</td>\n      <td>4.700000</td>\n      <td>4.720000</td>\n      <td>5.610000</td>\n      <td>6.030000</td>\n      <td>5.660000</td>\n      <td>5.160000</td>\n    </tr>\n    <tr>\n      <th>Euro area (13 countries)</th>\n      <td>5.203989</td>\n      <td>4.970000</td>\n      <td>5.00</td>\n      <td>5.04</td>\n      <td>4.95</td>\n      <td>4.89</td>\n      <td>4.870000</td>\n      <td>4.800000</td>\n      <td>4.940000</td>\n      <td>5.320000</td>\n      <td>5.280000</td>\n      <td>5.150000</td>\n    </tr>\n    <tr>\n      <th>Euro area (15 countries)</th>\n      <td>5.203989</td>\n      <td>4.980000</td>\n      <td>5.01</td>\n      <td>5.04</td>\n      <td>4.96</td>\n      <td>4.89</td>\n      <td>4.870000</td>\n      <td>4.810000</td>\n      <td>4.950000</td>\n      <td>5.320000</td>\n      <td>5.290000</td>\n      <td>5.160000</td>\n    </tr>\n    <tr>\n      <th>Euro area (17 countries)</th>\n      <td>5.203989</td>\n      <td>5.203989</td>\n      <td>4.86</td>\n      <td>4.89</td>\n      <td>4.80</td>\n      <td>4.72</td>\n      <td>4.690000</td>\n      <td>4.790000</td>\n      <td>4.940000</td>\n      <td>5.310000</td>\n      <td>5.280000</td>\n      <td>5.150000</td>\n    </tr>\n    <tr>\n      <th>Euro area (18 countries)</th>\n      <td>5.203989</td>\n      <td>5.203989</td>\n      <td>4.87</td>\n      <td>4.89</td>\n      <td>4.80</td>\n      <td>4.72</td>\n      <td>4.690000</td>\n      <td>4.790000</td>\n      <td>4.940000</td>\n      <td>5.310000</td>\n      <td>5.280000</td>\n      <td>5.150000</td>\n    </tr>\n    <tr>\n      <th>European Union (25 countries)</th>\n      <td>4.940000</td>\n      <td>5.020000</td>\n      <td>5.03</td>\n      <td>5.06</td>\n      <td>4.98</td>\n      <td>4.95</td>\n      <td>4.930000</td>\n      <td>4.950000</td>\n      <td>5.060000</td>\n      <td>5.410000</td>\n      <td>5.460000</td>\n      <td>5.310000</td>\n    </tr>\n    <tr>\n      <th>European Union (27 countries)</th>\n      <td>4.910000</td>\n      <td>4.990000</td>\n      <td>5.00</td>\n      <td>5.04</td>\n      <td>4.95</td>\n      <td>4.92</td>\n      <td>4.910000</td>\n      <td>4.930000</td>\n      <td>5.040000</td>\n      <td>5.380000</td>\n      <td>5.410000</td>\n      <td>5.250000</td>\n    </tr>\n    <tr>\n      <th>European Union (28 countries)</th>\n      <td>5.203989</td>\n      <td>5.203989</td>\n      <td>5.00</td>\n      <td>5.03</td>\n      <td>4.95</td>\n      <td>4.92</td>\n      <td>4.910000</td>\n      <td>4.920000</td>\n      <td>5.040000</td>\n      <td>5.380000</td>\n      <td>5.410000</td>\n      <td>5.250000</td>\n    </tr>\n    <tr>\n      <th>Finland</th>\n      <td>5.890000</td>\n      <td>6.060000</td>\n      <td>6.22</td>\n      <td>6.43</td>\n      <td>6.42</td>\n      <td>6.30</td>\n      <td>6.180000</td>\n      <td>5.900000</td>\n      <td>6.100000</td>\n      <td>6.810000</td>\n      <td>6.850000</td>\n      <td>6.760000</td>\n    </tr>\n    <tr>\n      <th>France</th>\n      <td>6.040000</td>\n      <td>5.950000</td>\n      <td>5.90</td>\n      <td>5.92</td>\n      <td>5.80</td>\n      <td>5.67</td>\n      <td>5.610000</td>\n      <td>5.620000</td>\n      <td>5.620000</td>\n      <td>5.900000</td>\n      <td>5.860000</td>\n      <td>5.680000</td>\n    </tr>\n    <tr>\n      <th>Germany (until 1990 former territory of the FRG)</th>\n      <td>4.450000</td>\n      <td>4.510000</td>\n      <td>4.72</td>\n      <td>4.74</td>\n      <td>4.62</td>\n      <td>4.57</td>\n      <td>4.430000</td>\n      <td>4.490000</td>\n      <td>4.570000</td>\n      <td>5.060000</td>\n      <td>5.080000</td>\n      <td>4.980000</td>\n    </tr>\n    <tr>\n      <th>Greece</th>\n      <td>3.710000</td>\n      <td>3.500000</td>\n      <td>3.57</td>\n      <td>3.56</td>\n      <td>3.83</td>\n      <td>4.09</td>\n      <td>5.203989</td>\n      <td>5.203989</td>\n      <td>5.203989</td>\n      <td>5.203989</td>\n      <td>5.203989</td>\n      <td>5.203989</td>\n    </tr>\n    <tr>\n      <th>Hungary</th>\n      <td>4.500000</td>\n      <td>5.060000</td>\n      <td>5.39</td>\n      <td>5.91</td>\n      <td>5.44</td>\n      <td>5.46</td>\n      <td>5.440000</td>\n      <td>5.290000</td>\n      <td>5.100000</td>\n      <td>5.120000</td>\n      <td>4.900000</td>\n      <td>4.710000</td>\n    </tr>\n    <tr>\n      <th>Ireland</th>\n      <td>4.290000</td>\n      <td>4.240000</td>\n      <td>4.27</td>\n      <td>4.35</td>\n      <td>4.66</td>\n      <td>4.72</td>\n      <td>4.730000</td>\n      <td>4.920000</td>\n      <td>5.670000</td>\n      <td>6.430000</td>\n      <td>6.410000</td>\n      <td>6.150000</td>\n    </tr>\n    <tr>\n      <th>Italy</th>\n      <td>4.520000</td>\n      <td>4.830000</td>\n      <td>4.60</td>\n      <td>4.72</td>\n      <td>4.56</td>\n      <td>4.41</td>\n      <td>4.670000</td>\n      <td>4.270000</td>\n      <td>4.560000</td>\n      <td>4.700000</td>\n      <td>4.500000</td>\n      <td>4.290000</td>\n    </tr>\n    <tr>\n      <th>Latvia</th>\n      <td>5.640000</td>\n      <td>7.220000</td>\n      <td>6.60</td>\n      <td>5.58</td>\n      <td>5.12</td>\n      <td>5.14</td>\n      <td>5.130000</td>\n      <td>5.070000</td>\n      <td>5.710000</td>\n      <td>5.590000</td>\n      <td>4.960000</td>\n      <td>4.960000</td>\n    </tr>\n    <tr>\n      <th>Lithuania</th>\n      <td>5.630000</td>\n      <td>5.860000</td>\n      <td>5.81</td>\n      <td>5.14</td>\n      <td>5.17</td>\n      <td>4.88</td>\n      <td>4.820000</td>\n      <td>4.640000</td>\n      <td>4.880000</td>\n      <td>5.640000</td>\n      <td>5.360000</td>\n      <td>5.170000</td>\n    </tr>\n    <tr>\n      <th>Luxembourg</th>\n      <td>5.203989</td>\n      <td>3.750000</td>\n      <td>3.79</td>\n      <td>3.77</td>\n      <td>3.87</td>\n      <td>3.78</td>\n      <td>3.410000</td>\n      <td>3.150000</td>\n      <td>5.203989</td>\n      <td>5.203989</td>\n      <td>5.203989</td>\n      <td>5.203989</td>\n    </tr>\n    <tr>\n      <th>Malta</th>\n      <td>4.520000</td>\n      <td>4.270000</td>\n      <td>4.22</td>\n      <td>4.48</td>\n      <td>4.66</td>\n      <td>6.58</td>\n      <td>6.450000</td>\n      <td>6.180000</td>\n      <td>5.720000</td>\n      <td>5.320000</td>\n      <td>6.740000</td>\n      <td>7.960000</td>\n    </tr>\n    <tr>\n      <th>Netherlands</th>\n      <td>4.980000</td>\n      <td>5.090000</td>\n      <td>5.22</td>\n      <td>5.47</td>\n      <td>5.50</td>\n      <td>5.53</td>\n      <td>5.500000</td>\n      <td>5.320000</td>\n      <td>5.500000</td>\n      <td>5.950000</td>\n      <td>5.980000</td>\n      <td>5.930000</td>\n    </tr>\n    <tr>\n      <th>Poland</th>\n      <td>4.870000</td>\n      <td>5.420000</td>\n      <td>5.41</td>\n      <td>5.35</td>\n      <td>5.41</td>\n      <td>5.47</td>\n      <td>5.250000</td>\n      <td>4.910000</td>\n      <td>5.080000</td>\n      <td>5.090000</td>\n      <td>5.170000</td>\n      <td>4.940000</td>\n    </tr>\n    <tr>\n      <th>Portugal</th>\n      <td>5.420000</td>\n      <td>5.390000</td>\n      <td>5.33</td>\n      <td>5.38</td>\n      <td>5.10</td>\n      <td>5.21</td>\n      <td>5.070000</td>\n      <td>5.100000</td>\n      <td>4.890000</td>\n      <td>5.790000</td>\n      <td>5.620000</td>\n      <td>5.270000</td>\n    </tr>\n    <tr>\n      <th>Romania</th>\n      <td>2.880000</td>\n      <td>3.250000</td>\n      <td>3.51</td>\n      <td>3.45</td>\n      <td>3.28</td>\n      <td>3.48</td>\n      <td>5.203989</td>\n      <td>4.250000</td>\n      <td>5.203989</td>\n      <td>4.240000</td>\n      <td>3.530000</td>\n      <td>3.070000</td>\n    </tr>\n    <tr>\n      <th>Slovakia</th>\n      <td>3.920000</td>\n      <td>3.990000</td>\n      <td>4.31</td>\n      <td>4.30</td>\n      <td>4.19</td>\n      <td>3.85</td>\n      <td>3.800000</td>\n      <td>3.620000</td>\n      <td>3.610000</td>\n      <td>4.090000</td>\n      <td>4.220000</td>\n      <td>4.060000</td>\n    </tr>\n    <tr>\n      <th>Slovenia</th>\n      <td>5.203989</td>\n      <td>5.860000</td>\n      <td>5.76</td>\n      <td>5.80</td>\n      <td>5.74</td>\n      <td>5.73</td>\n      <td>5.720000</td>\n      <td>5.150000</td>\n      <td>5.200000</td>\n      <td>5.690000</td>\n      <td>5.680000</td>\n      <td>5.680000</td>\n    </tr>\n    <tr>\n      <th>Spain</th>\n      <td>4.280000</td>\n      <td>4.240000</td>\n      <td>4.25</td>\n      <td>4.28</td>\n      <td>4.25</td>\n      <td>4.23</td>\n      <td>4.260000</td>\n      <td>4.340000</td>\n      <td>4.620000</td>\n      <td>5.020000</td>\n      <td>4.980000</td>\n      <td>4.820000</td>\n    </tr>\n  </tbody>\n</table>\n</div>"
     },
     "metadata": {},
     "execution_count": 549
    }
   ],
   "source": [
    "g"
   ]
  },
  {
   "cell_type": "code",
   "execution_count": null,
   "metadata": {},
   "outputs": [],
   "source": [
    "#Change DataFrame to country names as the index, while the columns will be the years starting from 2006 and the values will be the previous 'Value' column."
   ]
  },
  {
   "cell_type": "code",
   "execution_count": 562,
   "metadata": {},
   "outputs": [
    {
     "output_type": "execute_result",
     "data": {
      "text/plain": "TIME                                                  2006      2007  \\\nGEO                                                                    \nAustria                                           5.400000  5.330000   \nBelgium                                           5.980000  6.000000   \nBulgaria                                          4.040000  3.880000   \nCyprus                                            7.020000  6.950000   \nCzech Republic                                    4.420000  4.050000   \nDenmark                                           7.970000  7.810000   \nEstonia                                           4.700000  4.720000   \nEuro area (13 countries)                          4.870000  4.800000   \nEuro area (15 countries)                          4.870000  4.810000   \nEuro area (17 countries)                          4.690000  4.790000   \nEuro area (18 countries)                          4.690000  4.790000   \nEuropean Union (25 countries)                     4.930000  4.950000   \nEuropean Union (27 countries)                     4.910000  4.930000   \nEuropean Union (28 countries)                     4.910000  4.920000   \nFinland                                           6.180000  5.900000   \nFrance                                            5.610000  5.620000   \nGermany (until 1990 former territory of the FRG)  4.430000  4.490000   \nGreece                                            5.203989  5.203989   \nHungary                                           5.440000  5.290000   \nIreland                                           4.730000  4.920000   \nItaly                                             4.670000  4.270000   \nLatvia                                            5.130000  5.070000   \nLithuania                                         4.820000  4.640000   \nLuxembourg                                        3.410000  3.150000   \nMalta                                             6.450000  6.180000   \nNetherlands                                       5.500000  5.320000   \nPoland                                            5.250000  4.910000   \nPortugal                                          5.070000  5.100000   \nRomania                                           5.203989  4.250000   \nSlovakia                                          3.800000  3.620000   \nSlovenia                                          5.720000  5.150000   \nSpain                                             4.260000  4.340000   \n\nTIME                                                  2008      2009  \\\nGEO                                                                    \nAustria                                           5.470000  5.980000   \nBelgium                                           6.430000  6.570000   \nBulgaria                                          4.440000  4.580000   \nCyprus                                            7.450000  7.980000   \nCzech Republic                                    3.920000  4.360000   \nDenmark                                           7.680000  8.740000   \nEstonia                                           5.610000  6.030000   \nEuro area (13 countries)                          4.940000  5.320000   \nEuro area (15 countries)                          4.950000  5.320000   \nEuro area (17 countries)                          4.940000  5.310000   \nEuro area (18 countries)                          4.940000  5.310000   \nEuropean Union (25 countries)                     5.060000  5.410000   \nEuropean Union (27 countries)                     5.040000  5.380000   \nEuropean Union (28 countries)                     5.040000  5.380000   \nFinland                                           6.100000  6.810000   \nFrance                                            5.620000  5.900000   \nGermany (until 1990 former territory of the FRG)  4.570000  5.060000   \nGreece                                            5.203989  5.203989   \nHungary                                           5.100000  5.120000   \nIreland                                           5.670000  6.430000   \nItaly                                             4.560000  4.700000   \nLatvia                                            5.710000  5.590000   \nLithuania                                         4.880000  5.640000   \nLuxembourg                                        5.203989  5.203989   \nMalta                                             5.720000  5.320000   \nNetherlands                                       5.500000  5.950000   \nPoland                                            5.080000  5.090000   \nPortugal                                          4.890000  5.790000   \nRomania                                           5.203989  4.240000   \nSlovakia                                          3.610000  4.090000   \nSlovenia                                          5.200000  5.690000   \nSpain                                             4.620000  5.020000   \n\nTIME                                                  2010      2011  \nGEO                                                                   \nAustria                                           5.910000  5.800000  \nBelgium                                           6.580000  6.550000  \nBulgaria                                          4.100000  3.820000  \nCyprus                                            7.920000  7.870000  \nCzech Republic                                    4.250000  4.510000  \nDenmark                                           8.810000  8.750000  \nEstonia                                           5.660000  5.160000  \nEuro area (13 countries)                          5.280000  5.150000  \nEuro area (15 countries)                          5.290000  5.160000  \nEuro area (17 countries)                          5.280000  5.150000  \nEuro area (18 countries)                          5.280000  5.150000  \nEuropean Union (25 countries)                     5.460000  5.310000  \nEuropean Union (27 countries)                     5.410000  5.250000  \nEuropean Union (28 countries)                     5.410000  5.250000  \nFinland                                           6.850000  6.760000  \nFrance                                            5.860000  5.680000  \nGermany (until 1990 former territory of the FRG)  5.080000  4.980000  \nGreece                                            5.203989  5.203989  \nHungary                                           4.900000  4.710000  \nIreland                                           6.410000  6.150000  \nItaly                                             4.500000  4.290000  \nLatvia                                            4.960000  4.960000  \nLithuania                                         5.360000  5.170000  \nLuxembourg                                        5.203989  5.203989  \nMalta                                             6.740000  7.960000  \nNetherlands                                       5.980000  5.930000  \nPoland                                            5.170000  4.940000  \nPortugal                                          5.620000  5.270000  \nRomania                                           3.530000  3.070000  \nSlovakia                                          4.220000  4.060000  \nSlovenia                                          5.680000  5.680000  \nSpain                                             4.980000  4.820000  ",
      "text/html": "<div>\n<style scoped>\n    .dataframe tbody tr th:only-of-type {\n        vertical-align: middle;\n    }\n\n    .dataframe tbody tr th {\n        vertical-align: top;\n    }\n\n    .dataframe thead th {\n        text-align: right;\n    }\n</style>\n<table border=\"1\" class=\"dataframe\">\n  <thead>\n    <tr style=\"text-align: right;\">\n      <th>TIME</th>\n      <th>2006</th>\n      <th>2007</th>\n      <th>2008</th>\n      <th>2009</th>\n      <th>2010</th>\n      <th>2011</th>\n    </tr>\n    <tr>\n      <th>GEO</th>\n      <th></th>\n      <th></th>\n      <th></th>\n      <th></th>\n      <th></th>\n      <th></th>\n    </tr>\n  </thead>\n  <tbody>\n    <tr>\n      <th>Austria</th>\n      <td>5.400000</td>\n      <td>5.330000</td>\n      <td>5.470000</td>\n      <td>5.980000</td>\n      <td>5.910000</td>\n      <td>5.800000</td>\n    </tr>\n    <tr>\n      <th>Belgium</th>\n      <td>5.980000</td>\n      <td>6.000000</td>\n      <td>6.430000</td>\n      <td>6.570000</td>\n      <td>6.580000</td>\n      <td>6.550000</td>\n    </tr>\n    <tr>\n      <th>Bulgaria</th>\n      <td>4.040000</td>\n      <td>3.880000</td>\n      <td>4.440000</td>\n      <td>4.580000</td>\n      <td>4.100000</td>\n      <td>3.820000</td>\n    </tr>\n    <tr>\n      <th>Cyprus</th>\n      <td>7.020000</td>\n      <td>6.950000</td>\n      <td>7.450000</td>\n      <td>7.980000</td>\n      <td>7.920000</td>\n      <td>7.870000</td>\n    </tr>\n    <tr>\n      <th>Czech Republic</th>\n      <td>4.420000</td>\n      <td>4.050000</td>\n      <td>3.920000</td>\n      <td>4.360000</td>\n      <td>4.250000</td>\n      <td>4.510000</td>\n    </tr>\n    <tr>\n      <th>Denmark</th>\n      <td>7.970000</td>\n      <td>7.810000</td>\n      <td>7.680000</td>\n      <td>8.740000</td>\n      <td>8.810000</td>\n      <td>8.750000</td>\n    </tr>\n    <tr>\n      <th>Estonia</th>\n      <td>4.700000</td>\n      <td>4.720000</td>\n      <td>5.610000</td>\n      <td>6.030000</td>\n      <td>5.660000</td>\n      <td>5.160000</td>\n    </tr>\n    <tr>\n      <th>Euro area (13 countries)</th>\n      <td>4.870000</td>\n      <td>4.800000</td>\n      <td>4.940000</td>\n      <td>5.320000</td>\n      <td>5.280000</td>\n      <td>5.150000</td>\n    </tr>\n    <tr>\n      <th>Euro area (15 countries)</th>\n      <td>4.870000</td>\n      <td>4.810000</td>\n      <td>4.950000</td>\n      <td>5.320000</td>\n      <td>5.290000</td>\n      <td>5.160000</td>\n    </tr>\n    <tr>\n      <th>Euro area (17 countries)</th>\n      <td>4.690000</td>\n      <td>4.790000</td>\n      <td>4.940000</td>\n      <td>5.310000</td>\n      <td>5.280000</td>\n      <td>5.150000</td>\n    </tr>\n    <tr>\n      <th>Euro area (18 countries)</th>\n      <td>4.690000</td>\n      <td>4.790000</td>\n      <td>4.940000</td>\n      <td>5.310000</td>\n      <td>5.280000</td>\n      <td>5.150000</td>\n    </tr>\n    <tr>\n      <th>European Union (25 countries)</th>\n      <td>4.930000</td>\n      <td>4.950000</td>\n      <td>5.060000</td>\n      <td>5.410000</td>\n      <td>5.460000</td>\n      <td>5.310000</td>\n    </tr>\n    <tr>\n      <th>European Union (27 countries)</th>\n      <td>4.910000</td>\n      <td>4.930000</td>\n      <td>5.040000</td>\n      <td>5.380000</td>\n      <td>5.410000</td>\n      <td>5.250000</td>\n    </tr>\n    <tr>\n      <th>European Union (28 countries)</th>\n      <td>4.910000</td>\n      <td>4.920000</td>\n      <td>5.040000</td>\n      <td>5.380000</td>\n      <td>5.410000</td>\n      <td>5.250000</td>\n    </tr>\n    <tr>\n      <th>Finland</th>\n      <td>6.180000</td>\n      <td>5.900000</td>\n      <td>6.100000</td>\n      <td>6.810000</td>\n      <td>6.850000</td>\n      <td>6.760000</td>\n    </tr>\n    <tr>\n      <th>France</th>\n      <td>5.610000</td>\n      <td>5.620000</td>\n      <td>5.620000</td>\n      <td>5.900000</td>\n      <td>5.860000</td>\n      <td>5.680000</td>\n    </tr>\n    <tr>\n      <th>Germany (until 1990 former territory of the FRG)</th>\n      <td>4.430000</td>\n      <td>4.490000</td>\n      <td>4.570000</td>\n      <td>5.060000</td>\n      <td>5.080000</td>\n      <td>4.980000</td>\n    </tr>\n    <tr>\n      <th>Greece</th>\n      <td>5.203989</td>\n      <td>5.203989</td>\n      <td>5.203989</td>\n      <td>5.203989</td>\n      <td>5.203989</td>\n      <td>5.203989</td>\n    </tr>\n    <tr>\n      <th>Hungary</th>\n      <td>5.440000</td>\n      <td>5.290000</td>\n      <td>5.100000</td>\n      <td>5.120000</td>\n      <td>4.900000</td>\n      <td>4.710000</td>\n    </tr>\n    <tr>\n      <th>Ireland</th>\n      <td>4.730000</td>\n      <td>4.920000</td>\n      <td>5.670000</td>\n      <td>6.430000</td>\n      <td>6.410000</td>\n      <td>6.150000</td>\n    </tr>\n    <tr>\n      <th>Italy</th>\n      <td>4.670000</td>\n      <td>4.270000</td>\n      <td>4.560000</td>\n      <td>4.700000</td>\n      <td>4.500000</td>\n      <td>4.290000</td>\n    </tr>\n    <tr>\n      <th>Latvia</th>\n      <td>5.130000</td>\n      <td>5.070000</td>\n      <td>5.710000</td>\n      <td>5.590000</td>\n      <td>4.960000</td>\n      <td>4.960000</td>\n    </tr>\n    <tr>\n      <th>Lithuania</th>\n      <td>4.820000</td>\n      <td>4.640000</td>\n      <td>4.880000</td>\n      <td>5.640000</td>\n      <td>5.360000</td>\n      <td>5.170000</td>\n    </tr>\n    <tr>\n      <th>Luxembourg</th>\n      <td>3.410000</td>\n      <td>3.150000</td>\n      <td>5.203989</td>\n      <td>5.203989</td>\n      <td>5.203989</td>\n      <td>5.203989</td>\n    </tr>\n    <tr>\n      <th>Malta</th>\n      <td>6.450000</td>\n      <td>6.180000</td>\n      <td>5.720000</td>\n      <td>5.320000</td>\n      <td>6.740000</td>\n      <td>7.960000</td>\n    </tr>\n    <tr>\n      <th>Netherlands</th>\n      <td>5.500000</td>\n      <td>5.320000</td>\n      <td>5.500000</td>\n      <td>5.950000</td>\n      <td>5.980000</td>\n      <td>5.930000</td>\n    </tr>\n    <tr>\n      <th>Poland</th>\n      <td>5.250000</td>\n      <td>4.910000</td>\n      <td>5.080000</td>\n      <td>5.090000</td>\n      <td>5.170000</td>\n      <td>4.940000</td>\n    </tr>\n    <tr>\n      <th>Portugal</th>\n      <td>5.070000</td>\n      <td>5.100000</td>\n      <td>4.890000</td>\n      <td>5.790000</td>\n      <td>5.620000</td>\n      <td>5.270000</td>\n    </tr>\n    <tr>\n      <th>Romania</th>\n      <td>5.203989</td>\n      <td>4.250000</td>\n      <td>5.203989</td>\n      <td>4.240000</td>\n      <td>3.530000</td>\n      <td>3.070000</td>\n    </tr>\n    <tr>\n      <th>Slovakia</th>\n      <td>3.800000</td>\n      <td>3.620000</td>\n      <td>3.610000</td>\n      <td>4.090000</td>\n      <td>4.220000</td>\n      <td>4.060000</td>\n    </tr>\n    <tr>\n      <th>Slovenia</th>\n      <td>5.720000</td>\n      <td>5.150000</td>\n      <td>5.200000</td>\n      <td>5.690000</td>\n      <td>5.680000</td>\n      <td>5.680000</td>\n    </tr>\n    <tr>\n      <th>Spain</th>\n      <td>4.260000</td>\n      <td>4.340000</td>\n      <td>4.620000</td>\n      <td>5.020000</td>\n      <td>4.980000</td>\n      <td>4.820000</td>\n    </tr>\n  </tbody>\n</table>\n</div>"
     },
     "metadata": {},
     "execution_count": 562
    }
   ],
   "source": [
    "g.iloc[:,6:12]"
   ]
  },
  {
   "cell_type": "code",
   "execution_count": 372,
   "metadata": {},
   "outputs": [],
   "source": [
    "df1=pd.read_table('https://ec.europa.eu/eurostat/estat-navtree-portlet-prod/BulkDownloadListing?file=data/tps00053.tsv.gz',sep = \"\\,|\\t+\",compression=\"gzip\")"
   ]
  },
  {
   "cell_type": "code",
   "execution_count": 373,
   "metadata": {},
   "outputs": [
    {
     "output_type": "execute_result",
     "data": {
      "text/plain": "  duration isced11     age sex unit geo\\time   2008    2009    2010    2011   \\\n0     Y1-3   ED3-8  Y20-34   F   PC       AT   89.7    86.9    87.2    89.6    \n1     Y1-3   ED3-8  Y20-34   F   PC       BE  82.1 b   80.8    80.6   81.4 b   \n2     Y1-3   ED3-8  Y20-34   F   PC       BG  76.0 b   71.2   72.3 b   60.6    \n3     Y1-3   ED3-8  Y20-34   F   PC       CH   88.4    88.0   84.4 b   86.0    \n4     Y1-3   ED3-8  Y20-34   F   PC       CY   86.0   79.5 b   78.7    72.0    \n\n   2012   2013    2014   2015   2016    2017   2018   2019  \n0   90.2  87.8   86.8 b  86.4   88.2    90.0   85.9   87.4  \n1   79.7  79.1   80.2 b  80.9   82.2   82.5 b  84.2   84.0  \n2   67.3  69.1   66.4 b  73.9   68.9    77.5   74.6   76.3  \n3   87.5  86.4   89.0 b  85.3   84.6    89.9   88.6   87.9  \n4   71.6  61.7   68.9 b  69.8   74.2    73.8   82.5   79.1  ",
      "text/html": "<div>\n<style scoped>\n    .dataframe tbody tr th:only-of-type {\n        vertical-align: middle;\n    }\n\n    .dataframe tbody tr th {\n        vertical-align: top;\n    }\n\n    .dataframe thead th {\n        text-align: right;\n    }\n</style>\n<table border=\"1\" class=\"dataframe\">\n  <thead>\n    <tr style=\"text-align: right;\">\n      <th></th>\n      <th>duration</th>\n      <th>isced11</th>\n      <th>age</th>\n      <th>sex</th>\n      <th>unit</th>\n      <th>geo\\time</th>\n      <th>2008</th>\n      <th>2009</th>\n      <th>2010</th>\n      <th>2011</th>\n      <th>2012</th>\n      <th>2013</th>\n      <th>2014</th>\n      <th>2015</th>\n      <th>2016</th>\n      <th>2017</th>\n      <th>2018</th>\n      <th>2019</th>\n    </tr>\n  </thead>\n  <tbody>\n    <tr>\n      <th>0</th>\n      <td>Y1-3</td>\n      <td>ED3-8</td>\n      <td>Y20-34</td>\n      <td>F</td>\n      <td>PC</td>\n      <td>AT</td>\n      <td>89.7</td>\n      <td>86.9</td>\n      <td>87.2</td>\n      <td>89.6</td>\n      <td>90.2</td>\n      <td>87.8</td>\n      <td>86.8 b</td>\n      <td>86.4</td>\n      <td>88.2</td>\n      <td>90.0</td>\n      <td>85.9</td>\n      <td>87.4</td>\n    </tr>\n    <tr>\n      <th>1</th>\n      <td>Y1-3</td>\n      <td>ED3-8</td>\n      <td>Y20-34</td>\n      <td>F</td>\n      <td>PC</td>\n      <td>BE</td>\n      <td>82.1 b</td>\n      <td>80.8</td>\n      <td>80.6</td>\n      <td>81.4 b</td>\n      <td>79.7</td>\n      <td>79.1</td>\n      <td>80.2 b</td>\n      <td>80.9</td>\n      <td>82.2</td>\n      <td>82.5 b</td>\n      <td>84.2</td>\n      <td>84.0</td>\n    </tr>\n    <tr>\n      <th>2</th>\n      <td>Y1-3</td>\n      <td>ED3-8</td>\n      <td>Y20-34</td>\n      <td>F</td>\n      <td>PC</td>\n      <td>BG</td>\n      <td>76.0 b</td>\n      <td>71.2</td>\n      <td>72.3 b</td>\n      <td>60.6</td>\n      <td>67.3</td>\n      <td>69.1</td>\n      <td>66.4 b</td>\n      <td>73.9</td>\n      <td>68.9</td>\n      <td>77.5</td>\n      <td>74.6</td>\n      <td>76.3</td>\n    </tr>\n    <tr>\n      <th>3</th>\n      <td>Y1-3</td>\n      <td>ED3-8</td>\n      <td>Y20-34</td>\n      <td>F</td>\n      <td>PC</td>\n      <td>CH</td>\n      <td>88.4</td>\n      <td>88.0</td>\n      <td>84.4 b</td>\n      <td>86.0</td>\n      <td>87.5</td>\n      <td>86.4</td>\n      <td>89.0 b</td>\n      <td>85.3</td>\n      <td>84.6</td>\n      <td>89.9</td>\n      <td>88.6</td>\n      <td>87.9</td>\n    </tr>\n    <tr>\n      <th>4</th>\n      <td>Y1-3</td>\n      <td>ED3-8</td>\n      <td>Y20-34</td>\n      <td>F</td>\n      <td>PC</td>\n      <td>CY</td>\n      <td>86.0</td>\n      <td>79.5 b</td>\n      <td>78.7</td>\n      <td>72.0</td>\n      <td>71.6</td>\n      <td>61.7</td>\n      <td>68.9 b</td>\n      <td>69.8</td>\n      <td>74.2</td>\n      <td>73.8</td>\n      <td>82.5</td>\n      <td>79.1</td>\n    </tr>\n  </tbody>\n</table>\n</div>"
     },
     "metadata": {},
     "execution_count": 373
    }
   ],
   "source": [
    "df1.head()"
   ]
  },
  {
   "cell_type": "code",
   "execution_count": 374,
   "metadata": {},
   "outputs": [
    {
     "output_type": "execute_result",
     "data": {
      "text/plain": "duration     object\nisced11      object\nage          object\nsex          object\nunit         object\ngeo\\time     object\n2008         object\n2009         object\n2010         object\n2011         object\n2012        float64\n2013         object\n2014         object\n2015         object\n2016         object\n2017         object\n2018         object\n2019        float64\ndtype: object"
     },
     "metadata": {},
     "execution_count": 374
    }
   ],
   "source": [
    "df1.dtypes"
   ]
  },
  {
   "cell_type": "code",
   "execution_count": 375,
   "metadata": {},
   "outputs": [
    {
     "output_type": "execute_result",
     "data": {
      "text/plain": "  duration isced11     age sex unit geo\\time   2008    2009    2010    2011   \\\n0     Y1-3   ED3-8  Y20-34   F   PC       AT   89.7    86.9    87.2    89.6    \n1     Y1-3   ED3-8  Y20-34   F   PC       BE  82.1 b   80.8    80.6   81.4 b   \n2     Y1-3   ED3-8  Y20-34   F   PC       BG  76.0 b   71.2   72.3 b   60.6    \n3     Y1-3   ED3-8  Y20-34   F   PC       CH   88.4    88.0   84.4 b   86.0    \n4     Y1-3   ED3-8  Y20-34   F   PC       CY   86.0   79.5 b   78.7    72.0    \n\n   2012   2013    2014   2015   2016    2017   2018   2019  \n0   90.2  87.8   86.8 b  86.4   88.2    90.0   85.9   87.4  \n1   79.7  79.1   80.2 b  80.9   82.2   82.5 b  84.2   84.0  \n2   67.3  69.1   66.4 b  73.9   68.9    77.5   74.6   76.3  \n3   87.5  86.4   89.0 b  85.3   84.6    89.9   88.6   87.9  \n4   71.6  61.7   68.9 b  69.8   74.2    73.8   82.5   79.1  ",
      "text/html": "<div>\n<style scoped>\n    .dataframe tbody tr th:only-of-type {\n        vertical-align: middle;\n    }\n\n    .dataframe tbody tr th {\n        vertical-align: top;\n    }\n\n    .dataframe thead th {\n        text-align: right;\n    }\n</style>\n<table border=\"1\" class=\"dataframe\">\n  <thead>\n    <tr style=\"text-align: right;\">\n      <th></th>\n      <th>duration</th>\n      <th>isced11</th>\n      <th>age</th>\n      <th>sex</th>\n      <th>unit</th>\n      <th>geo\\time</th>\n      <th>2008</th>\n      <th>2009</th>\n      <th>2010</th>\n      <th>2011</th>\n      <th>2012</th>\n      <th>2013</th>\n      <th>2014</th>\n      <th>2015</th>\n      <th>2016</th>\n      <th>2017</th>\n      <th>2018</th>\n      <th>2019</th>\n    </tr>\n  </thead>\n  <tbody>\n    <tr>\n      <th>0</th>\n      <td>Y1-3</td>\n      <td>ED3-8</td>\n      <td>Y20-34</td>\n      <td>F</td>\n      <td>PC</td>\n      <td>AT</td>\n      <td>89.7</td>\n      <td>86.9</td>\n      <td>87.2</td>\n      <td>89.6</td>\n      <td>90.2</td>\n      <td>87.8</td>\n      <td>86.8 b</td>\n      <td>86.4</td>\n      <td>88.2</td>\n      <td>90.0</td>\n      <td>85.9</td>\n      <td>87.4</td>\n    </tr>\n    <tr>\n      <th>1</th>\n      <td>Y1-3</td>\n      <td>ED3-8</td>\n      <td>Y20-34</td>\n      <td>F</td>\n      <td>PC</td>\n      <td>BE</td>\n      <td>82.1 b</td>\n      <td>80.8</td>\n      <td>80.6</td>\n      <td>81.4 b</td>\n      <td>79.7</td>\n      <td>79.1</td>\n      <td>80.2 b</td>\n      <td>80.9</td>\n      <td>82.2</td>\n      <td>82.5 b</td>\n      <td>84.2</td>\n      <td>84.0</td>\n    </tr>\n    <tr>\n      <th>2</th>\n      <td>Y1-3</td>\n      <td>ED3-8</td>\n      <td>Y20-34</td>\n      <td>F</td>\n      <td>PC</td>\n      <td>BG</td>\n      <td>76.0 b</td>\n      <td>71.2</td>\n      <td>72.3 b</td>\n      <td>60.6</td>\n      <td>67.3</td>\n      <td>69.1</td>\n      <td>66.4 b</td>\n      <td>73.9</td>\n      <td>68.9</td>\n      <td>77.5</td>\n      <td>74.6</td>\n      <td>76.3</td>\n    </tr>\n    <tr>\n      <th>3</th>\n      <td>Y1-3</td>\n      <td>ED3-8</td>\n      <td>Y20-34</td>\n      <td>F</td>\n      <td>PC</td>\n      <td>CH</td>\n      <td>88.4</td>\n      <td>88.0</td>\n      <td>84.4 b</td>\n      <td>86.0</td>\n      <td>87.5</td>\n      <td>86.4</td>\n      <td>89.0 b</td>\n      <td>85.3</td>\n      <td>84.6</td>\n      <td>89.9</td>\n      <td>88.6</td>\n      <td>87.9</td>\n    </tr>\n    <tr>\n      <th>4</th>\n      <td>Y1-3</td>\n      <td>ED3-8</td>\n      <td>Y20-34</td>\n      <td>F</td>\n      <td>PC</td>\n      <td>CY</td>\n      <td>86.0</td>\n      <td>79.5 b</td>\n      <td>78.7</td>\n      <td>72.0</td>\n      <td>71.6</td>\n      <td>61.7</td>\n      <td>68.9 b</td>\n      <td>69.8</td>\n      <td>74.2</td>\n      <td>73.8</td>\n      <td>82.5</td>\n      <td>79.1</td>\n    </tr>\n  </tbody>\n</table>\n</div>"
     },
     "metadata": {},
     "execution_count": 375
    }
   ],
   "source": [
    "df1.head()"
   ]
  },
  {
   "cell_type": "code",
   "execution_count": 376,
   "metadata": {},
   "outputs": [],
   "source": [
    "df1.iloc[:,6:18]=df1.iloc[:,6:18].astype(str)\n",
    "df1.iloc[:,6:18]=df1.iloc[:,6:18].apply(lambda x: x.str.replace(\"[A-Za-z]\", \"\"),axis=1)"
   ]
  },
  {
   "cell_type": "code",
   "execution_count": 377,
   "metadata": {},
   "outputs": [],
   "source": [
    "df1.replace(to_replace=\": \",value=np.nan,inplace=True)"
   ]
  },
  {
   "cell_type": "code",
   "execution_count": 378,
   "metadata": {},
   "outputs": [
    {
     "output_type": "execute_result",
     "data": {
      "text/plain": "  duration isced11     age sex unit geo\\time  2008   2009   2010   2011   \\\n0     Y1-3   ED3-8  Y20-34   F   PC       AT  89.7   86.9   87.2   89.6    \n1     Y1-3   ED3-8  Y20-34   F   PC       BE  82.1   80.8   80.6   81.4    \n2     Y1-3   ED3-8  Y20-34   F   PC       BG  76.0   71.2   72.3   60.6    \n3     Y1-3   ED3-8  Y20-34   F   PC       CH  88.4   88.0   84.4   86.0    \n4     Y1-3   ED3-8  Y20-34   F   PC       CY  86.0   79.5   78.7   72.0    \n\n  2012   2013   2014   2015   2016   2017   2018   2019  \n0  90.2  87.8   86.8   86.4   88.2   90.0   85.9   87.4  \n1  79.7  79.1   80.2   80.9   82.2   82.5   84.2   84.0  \n2  67.3  69.1   66.4   73.9   68.9   77.5   74.6   76.3  \n3  87.5  86.4   89.0   85.3   84.6   89.9   88.6   87.9  \n4  71.6  61.7   68.9   69.8   74.2   73.8   82.5   79.1  ",
      "text/html": "<div>\n<style scoped>\n    .dataframe tbody tr th:only-of-type {\n        vertical-align: middle;\n    }\n\n    .dataframe tbody tr th {\n        vertical-align: top;\n    }\n\n    .dataframe thead th {\n        text-align: right;\n    }\n</style>\n<table border=\"1\" class=\"dataframe\">\n  <thead>\n    <tr style=\"text-align: right;\">\n      <th></th>\n      <th>duration</th>\n      <th>isced11</th>\n      <th>age</th>\n      <th>sex</th>\n      <th>unit</th>\n      <th>geo\\time</th>\n      <th>2008</th>\n      <th>2009</th>\n      <th>2010</th>\n      <th>2011</th>\n      <th>2012</th>\n      <th>2013</th>\n      <th>2014</th>\n      <th>2015</th>\n      <th>2016</th>\n      <th>2017</th>\n      <th>2018</th>\n      <th>2019</th>\n    </tr>\n  </thead>\n  <tbody>\n    <tr>\n      <th>0</th>\n      <td>Y1-3</td>\n      <td>ED3-8</td>\n      <td>Y20-34</td>\n      <td>F</td>\n      <td>PC</td>\n      <td>AT</td>\n      <td>89.7</td>\n      <td>86.9</td>\n      <td>87.2</td>\n      <td>89.6</td>\n      <td>90.2</td>\n      <td>87.8</td>\n      <td>86.8</td>\n      <td>86.4</td>\n      <td>88.2</td>\n      <td>90.0</td>\n      <td>85.9</td>\n      <td>87.4</td>\n    </tr>\n    <tr>\n      <th>1</th>\n      <td>Y1-3</td>\n      <td>ED3-8</td>\n      <td>Y20-34</td>\n      <td>F</td>\n      <td>PC</td>\n      <td>BE</td>\n      <td>82.1</td>\n      <td>80.8</td>\n      <td>80.6</td>\n      <td>81.4</td>\n      <td>79.7</td>\n      <td>79.1</td>\n      <td>80.2</td>\n      <td>80.9</td>\n      <td>82.2</td>\n      <td>82.5</td>\n      <td>84.2</td>\n      <td>84.0</td>\n    </tr>\n    <tr>\n      <th>2</th>\n      <td>Y1-3</td>\n      <td>ED3-8</td>\n      <td>Y20-34</td>\n      <td>F</td>\n      <td>PC</td>\n      <td>BG</td>\n      <td>76.0</td>\n      <td>71.2</td>\n      <td>72.3</td>\n      <td>60.6</td>\n      <td>67.3</td>\n      <td>69.1</td>\n      <td>66.4</td>\n      <td>73.9</td>\n      <td>68.9</td>\n      <td>77.5</td>\n      <td>74.6</td>\n      <td>76.3</td>\n    </tr>\n    <tr>\n      <th>3</th>\n      <td>Y1-3</td>\n      <td>ED3-8</td>\n      <td>Y20-34</td>\n      <td>F</td>\n      <td>PC</td>\n      <td>CH</td>\n      <td>88.4</td>\n      <td>88.0</td>\n      <td>84.4</td>\n      <td>86.0</td>\n      <td>87.5</td>\n      <td>86.4</td>\n      <td>89.0</td>\n      <td>85.3</td>\n      <td>84.6</td>\n      <td>89.9</td>\n      <td>88.6</td>\n      <td>87.9</td>\n    </tr>\n    <tr>\n      <th>4</th>\n      <td>Y1-3</td>\n      <td>ED3-8</td>\n      <td>Y20-34</td>\n      <td>F</td>\n      <td>PC</td>\n      <td>CY</td>\n      <td>86.0</td>\n      <td>79.5</td>\n      <td>78.7</td>\n      <td>72.0</td>\n      <td>71.6</td>\n      <td>61.7</td>\n      <td>68.9</td>\n      <td>69.8</td>\n      <td>74.2</td>\n      <td>73.8</td>\n      <td>82.5</td>\n      <td>79.1</td>\n    </tr>\n  </tbody>\n</table>\n</div>"
     },
     "metadata": {},
     "execution_count": 378
    }
   ],
   "source": [
    "df1.head()"
   ]
  },
  {
   "cell_type": "code",
   "execution_count": 379,
   "metadata": {},
   "outputs": [
    {
     "output_type": "execute_result",
     "data": {
      "text/plain": "array(['duration', 'isced11', 'age', 'sex', 'unit', 'geo\\\\time', '2008 ',\n       '2009 ', '2010 ', '2011 ', '2012 ', '2013 ', '2014 ', '2015 ',\n       '2016 ', '2017 ', '2018 ', '2019'], dtype=object)"
     },
     "metadata": {},
     "execution_count": 379
    }
   ],
   "source": [
    "df1.columns.values"
   ]
  },
  {
   "cell_type": "code",
   "execution_count": 380,
   "metadata": {},
   "outputs": [],
   "source": [
    "for i in range(6,18):\n",
    "  df1.iloc[:,i]=df1.iloc[:,i].astype(float)"
   ]
  },
  {
   "cell_type": "code",
   "execution_count": 381,
   "metadata": {},
   "outputs": [
    {
     "output_type": "execute_result",
     "data": {
      "text/plain": "duration     object\nisced11      object\nage          object\nsex          object\nunit         object\ngeo\\time     object\n2008        float64\n2009        float64\n2010        float64\n2011        float64\n2012        float64\n2013        float64\n2014        float64\n2015        float64\n2016        float64\n2017        float64\n2018        float64\n2019        float64\ndtype: object"
     },
     "metadata": {},
     "execution_count": 381
    }
   ],
   "source": [
    "df1.dtypes"
   ]
  },
  {
   "cell_type": "code",
   "execution_count": 382,
   "metadata": {},
   "outputs": [
    {
     "output_type": "execute_result",
     "data": {
      "text/plain": "  duration isced11     age sex unit geo\\time  2008   2009   2010   2011   \\\n0     Y1-3   ED3-8  Y20-34   F   PC       AT   89.7   86.9   87.2   89.6   \n1     Y1-3   ED3-8  Y20-34   F   PC       BE   82.1   80.8   80.6   81.4   \n2     Y1-3   ED3-8  Y20-34   F   PC       BG   76.0   71.2   72.3   60.6   \n3     Y1-3   ED3-8  Y20-34   F   PC       CH   88.4   88.0   84.4   86.0   \n4     Y1-3   ED3-8  Y20-34   F   PC       CY   86.0   79.5   78.7   72.0   \n\n   2012   2013   2014   2015   2016   2017   2018   2019  \n0   90.2   87.8   86.8   86.4   88.2   90.0   85.9  87.4  \n1   79.7   79.1   80.2   80.9   82.2   82.5   84.2  84.0  \n2   67.3   69.1   66.4   73.9   68.9   77.5   74.6  76.3  \n3   87.5   86.4   89.0   85.3   84.6   89.9   88.6  87.9  \n4   71.6   61.7   68.9   69.8   74.2   73.8   82.5  79.1  ",
      "text/html": "<div>\n<style scoped>\n    .dataframe tbody tr th:only-of-type {\n        vertical-align: middle;\n    }\n\n    .dataframe tbody tr th {\n        vertical-align: top;\n    }\n\n    .dataframe thead th {\n        text-align: right;\n    }\n</style>\n<table border=\"1\" class=\"dataframe\">\n  <thead>\n    <tr style=\"text-align: right;\">\n      <th></th>\n      <th>duration</th>\n      <th>isced11</th>\n      <th>age</th>\n      <th>sex</th>\n      <th>unit</th>\n      <th>geo\\time</th>\n      <th>2008</th>\n      <th>2009</th>\n      <th>2010</th>\n      <th>2011</th>\n      <th>2012</th>\n      <th>2013</th>\n      <th>2014</th>\n      <th>2015</th>\n      <th>2016</th>\n      <th>2017</th>\n      <th>2018</th>\n      <th>2019</th>\n    </tr>\n  </thead>\n  <tbody>\n    <tr>\n      <th>0</th>\n      <td>Y1-3</td>\n      <td>ED3-8</td>\n      <td>Y20-34</td>\n      <td>F</td>\n      <td>PC</td>\n      <td>AT</td>\n      <td>89.7</td>\n      <td>86.9</td>\n      <td>87.2</td>\n      <td>89.6</td>\n      <td>90.2</td>\n      <td>87.8</td>\n      <td>86.8</td>\n      <td>86.4</td>\n      <td>88.2</td>\n      <td>90.0</td>\n      <td>85.9</td>\n      <td>87.4</td>\n    </tr>\n    <tr>\n      <th>1</th>\n      <td>Y1-3</td>\n      <td>ED3-8</td>\n      <td>Y20-34</td>\n      <td>F</td>\n      <td>PC</td>\n      <td>BE</td>\n      <td>82.1</td>\n      <td>80.8</td>\n      <td>80.6</td>\n      <td>81.4</td>\n      <td>79.7</td>\n      <td>79.1</td>\n      <td>80.2</td>\n      <td>80.9</td>\n      <td>82.2</td>\n      <td>82.5</td>\n      <td>84.2</td>\n      <td>84.0</td>\n    </tr>\n    <tr>\n      <th>2</th>\n      <td>Y1-3</td>\n      <td>ED3-8</td>\n      <td>Y20-34</td>\n      <td>F</td>\n      <td>PC</td>\n      <td>BG</td>\n      <td>76.0</td>\n      <td>71.2</td>\n      <td>72.3</td>\n      <td>60.6</td>\n      <td>67.3</td>\n      <td>69.1</td>\n      <td>66.4</td>\n      <td>73.9</td>\n      <td>68.9</td>\n      <td>77.5</td>\n      <td>74.6</td>\n      <td>76.3</td>\n    </tr>\n    <tr>\n      <th>3</th>\n      <td>Y1-3</td>\n      <td>ED3-8</td>\n      <td>Y20-34</td>\n      <td>F</td>\n      <td>PC</td>\n      <td>CH</td>\n      <td>88.4</td>\n      <td>88.0</td>\n      <td>84.4</td>\n      <td>86.0</td>\n      <td>87.5</td>\n      <td>86.4</td>\n      <td>89.0</td>\n      <td>85.3</td>\n      <td>84.6</td>\n      <td>89.9</td>\n      <td>88.6</td>\n      <td>87.9</td>\n    </tr>\n    <tr>\n      <th>4</th>\n      <td>Y1-3</td>\n      <td>ED3-8</td>\n      <td>Y20-34</td>\n      <td>F</td>\n      <td>PC</td>\n      <td>CY</td>\n      <td>86.0</td>\n      <td>79.5</td>\n      <td>78.7</td>\n      <td>72.0</td>\n      <td>71.6</td>\n      <td>61.7</td>\n      <td>68.9</td>\n      <td>69.8</td>\n      <td>74.2</td>\n      <td>73.8</td>\n      <td>82.5</td>\n      <td>79.1</td>\n    </tr>\n  </tbody>\n</table>\n</div>"
     },
     "metadata": {},
     "execution_count": 382
    }
   ],
   "source": [
    "df1.head()"
   ]
  },
  {
   "cell_type": "code",
   "execution_count": 501,
   "metadata": {},
   "outputs": [
    {
     "output_type": "execute_result",
     "data": {
      "text/plain": "sex\nF    74.760526\nM    79.165789\nT    76.876316\nName: 2016 , dtype: float64"
     },
     "metadata": {},
     "execution_count": 501
    }
   ],
   "source": [
    "g=df1.groupby('sex')\n",
    "g.mean()[\"2016 \"]"
   ]
  },
  {
   "cell_type": "code",
   "execution_count": 505,
   "metadata": {
    "tags": []
   },
   "outputs": [
    {
     "output_type": "execute_result",
     "data": {
      "text/plain": "'2008 '"
     },
     "metadata": {},
     "execution_count": 505
    }
   ],
   "source": [
    "g.mean().loc[\"F\",\"2008 \":\"2019\"].astype(float).idxmax()"
   ]
  },
  {
   "cell_type": "code",
   "execution_count": 466,
   "metadata": {},
   "outputs": [],
   "source": [
    "df1=df1.rename(columns={\"geo\\\\time\":\"geotime\"})"
   ]
  },
  {
   "cell_type": "code",
   "execution_count": 427,
   "metadata": {},
   "outputs": [
    {
     "output_type": "execute_result",
     "data": {
      "text/plain": "  duration isced11     age sex unit geotime  2008   2009   2010   2011   \\\n0     Y1-3   ED3-8  Y20-34   F   PC      AT   89.7   86.9   87.2   89.6   \n1     Y1-3   ED3-8  Y20-34   F   PC      BE   82.1   80.8   80.6   81.4   \n2     Y1-3   ED3-8  Y20-34   F   PC      BG   76.0   71.2   72.3   60.6   \n3     Y1-3   ED3-8  Y20-34   F   PC      CH   88.4   88.0   84.4   86.0   \n4     Y1-3   ED3-8  Y20-34   F   PC      CY   86.0   79.5   78.7   72.0   \n\n   2012   2013   2014   2015   2016   2017   2018   2019  \n0   90.2   87.8   86.8   86.4   88.2   90.0   85.9  87.4  \n1   79.7   79.1   80.2   80.9   82.2   82.5   84.2  84.0  \n2   67.3   69.1   66.4   73.9   68.9   77.5   74.6  76.3  \n3   87.5   86.4   89.0   85.3   84.6   89.9   88.6  87.9  \n4   71.6   61.7   68.9   69.8   74.2   73.8   82.5  79.1  ",
      "text/html": "<div>\n<style scoped>\n    .dataframe tbody tr th:only-of-type {\n        vertical-align: middle;\n    }\n\n    .dataframe tbody tr th {\n        vertical-align: top;\n    }\n\n    .dataframe thead th {\n        text-align: right;\n    }\n</style>\n<table border=\"1\" class=\"dataframe\">\n  <thead>\n    <tr style=\"text-align: right;\">\n      <th></th>\n      <th>duration</th>\n      <th>isced11</th>\n      <th>age</th>\n      <th>sex</th>\n      <th>unit</th>\n      <th>geotime</th>\n      <th>2008</th>\n      <th>2009</th>\n      <th>2010</th>\n      <th>2011</th>\n      <th>2012</th>\n      <th>2013</th>\n      <th>2014</th>\n      <th>2015</th>\n      <th>2016</th>\n      <th>2017</th>\n      <th>2018</th>\n      <th>2019</th>\n    </tr>\n  </thead>\n  <tbody>\n    <tr>\n      <th>0</th>\n      <td>Y1-3</td>\n      <td>ED3-8</td>\n      <td>Y20-34</td>\n      <td>F</td>\n      <td>PC</td>\n      <td>AT</td>\n      <td>89.7</td>\n      <td>86.9</td>\n      <td>87.2</td>\n      <td>89.6</td>\n      <td>90.2</td>\n      <td>87.8</td>\n      <td>86.8</td>\n      <td>86.4</td>\n      <td>88.2</td>\n      <td>90.0</td>\n      <td>85.9</td>\n      <td>87.4</td>\n    </tr>\n    <tr>\n      <th>1</th>\n      <td>Y1-3</td>\n      <td>ED3-8</td>\n      <td>Y20-34</td>\n      <td>F</td>\n      <td>PC</td>\n      <td>BE</td>\n      <td>82.1</td>\n      <td>80.8</td>\n      <td>80.6</td>\n      <td>81.4</td>\n      <td>79.7</td>\n      <td>79.1</td>\n      <td>80.2</td>\n      <td>80.9</td>\n      <td>82.2</td>\n      <td>82.5</td>\n      <td>84.2</td>\n      <td>84.0</td>\n    </tr>\n    <tr>\n      <th>2</th>\n      <td>Y1-3</td>\n      <td>ED3-8</td>\n      <td>Y20-34</td>\n      <td>F</td>\n      <td>PC</td>\n      <td>BG</td>\n      <td>76.0</td>\n      <td>71.2</td>\n      <td>72.3</td>\n      <td>60.6</td>\n      <td>67.3</td>\n      <td>69.1</td>\n      <td>66.4</td>\n      <td>73.9</td>\n      <td>68.9</td>\n      <td>77.5</td>\n      <td>74.6</td>\n      <td>76.3</td>\n    </tr>\n    <tr>\n      <th>3</th>\n      <td>Y1-3</td>\n      <td>ED3-8</td>\n      <td>Y20-34</td>\n      <td>F</td>\n      <td>PC</td>\n      <td>CH</td>\n      <td>88.4</td>\n      <td>88.0</td>\n      <td>84.4</td>\n      <td>86.0</td>\n      <td>87.5</td>\n      <td>86.4</td>\n      <td>89.0</td>\n      <td>85.3</td>\n      <td>84.6</td>\n      <td>89.9</td>\n      <td>88.6</td>\n      <td>87.9</td>\n    </tr>\n    <tr>\n      <th>4</th>\n      <td>Y1-3</td>\n      <td>ED3-8</td>\n      <td>Y20-34</td>\n      <td>F</td>\n      <td>PC</td>\n      <td>CY</td>\n      <td>86.0</td>\n      <td>79.5</td>\n      <td>78.7</td>\n      <td>72.0</td>\n      <td>71.6</td>\n      <td>61.7</td>\n      <td>68.9</td>\n      <td>69.8</td>\n      <td>74.2</td>\n      <td>73.8</td>\n      <td>82.5</td>\n      <td>79.1</td>\n    </tr>\n  </tbody>\n</table>\n</div>"
     },
     "metadata": {},
     "execution_count": 427
    }
   ],
   "source": [
    "df1.head()"
   ]
  },
  {
   "cell_type": "code",
   "execution_count": 442,
   "metadata": {},
   "outputs": [
    {
     "output_type": "execute_result",
     "data": {
      "text/plain": "69.5"
     },
     "metadata": {},
     "execution_count": 442
    }
   ],
   "source": [
    "100*len(df1.loc[df1[\"geotime\"]==\"EU27_2020\"][\"2010 \"])-df1.loc[df1[\"geotime\"]==\"EU27_2020\"][\"2010 \"].sum()"
   ]
  },
  {
   "cell_type": "code",
   "execution_count": 506,
   "metadata": {},
   "outputs": [],
   "source": [
    "df2=df1.melt(id_vars=\"geotime\",value_vars=[\"2008 \",\"2009 \",\"2010 \",\"2011 \",\"2012 \",\"2013 \",\"2014 \",\"2015 \",\"2016 \",\"2017 \",\"2018 \",\"2019\"],var_name=\"year\",value_name=\"unemployment rate\")"
   ]
  },
  {
   "cell_type": "code",
   "execution_count": 508,
   "metadata": {},
   "outputs": [],
   "source": [
    "df2[\"unemployment rate\"]=100-df2[\"unemployment rate\"]"
   ]
  },
  {
   "cell_type": "code",
   "execution_count": 509,
   "metadata": {},
   "outputs": [
    {
     "output_type": "execute_result",
     "data": {
      "text/plain": "     geotime   year  unemployment rate\n0         AT  2008                10.3\n1         BE  2008                17.9\n2         BG  2008                24.0\n3         CH  2008                11.6\n4         CY  2008                14.0\n...      ...    ...                ...\n1363      SE   2019               11.3\n1364      SI   2019               14.0\n1365      SK   2019               16.1\n1366      TR   2019               42.2\n1367      UK   2019               14.6\n\n[1368 rows x 3 columns]",
      "text/html": "<div>\n<style scoped>\n    .dataframe tbody tr th:only-of-type {\n        vertical-align: middle;\n    }\n\n    .dataframe tbody tr th {\n        vertical-align: top;\n    }\n\n    .dataframe thead th {\n        text-align: right;\n    }\n</style>\n<table border=\"1\" class=\"dataframe\">\n  <thead>\n    <tr style=\"text-align: right;\">\n      <th></th>\n      <th>geotime</th>\n      <th>year</th>\n      <th>unemployment rate</th>\n    </tr>\n  </thead>\n  <tbody>\n    <tr>\n      <th>0</th>\n      <td>AT</td>\n      <td>2008</td>\n      <td>10.3</td>\n    </tr>\n    <tr>\n      <th>1</th>\n      <td>BE</td>\n      <td>2008</td>\n      <td>17.9</td>\n    </tr>\n    <tr>\n      <th>2</th>\n      <td>BG</td>\n      <td>2008</td>\n      <td>24.0</td>\n    </tr>\n    <tr>\n      <th>3</th>\n      <td>CH</td>\n      <td>2008</td>\n      <td>11.6</td>\n    </tr>\n    <tr>\n      <th>4</th>\n      <td>CY</td>\n      <td>2008</td>\n      <td>14.0</td>\n    </tr>\n    <tr>\n      <th>...</th>\n      <td>...</td>\n      <td>...</td>\n      <td>...</td>\n    </tr>\n    <tr>\n      <th>1363</th>\n      <td>SE</td>\n      <td>2019</td>\n      <td>11.3</td>\n    </tr>\n    <tr>\n      <th>1364</th>\n      <td>SI</td>\n      <td>2019</td>\n      <td>14.0</td>\n    </tr>\n    <tr>\n      <th>1365</th>\n      <td>SK</td>\n      <td>2019</td>\n      <td>16.1</td>\n    </tr>\n    <tr>\n      <th>1366</th>\n      <td>TR</td>\n      <td>2019</td>\n      <td>42.2</td>\n    </tr>\n    <tr>\n      <th>1367</th>\n      <td>UK</td>\n      <td>2019</td>\n      <td>14.6</td>\n    </tr>\n  </tbody>\n</table>\n<p>1368 rows × 3 columns</p>\n</div>"
     },
     "metadata": {},
     "execution_count": 509
    }
   ],
   "source": [
    "df2"
   ]
  },
  {
   "cell_type": "code",
   "execution_count": null,
   "metadata": {},
   "outputs": [],
   "source": []
  }
 ]
}