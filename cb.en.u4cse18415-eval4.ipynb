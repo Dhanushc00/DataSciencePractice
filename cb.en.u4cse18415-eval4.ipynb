{
 "cells": [
  {
   "cell_type": "markdown",
   "metadata": {},
   "source": [
    "# 0. Import data"
   ]
  },
  {
   "cell_type": "code",
   "execution_count": 105,
   "metadata": {
    "id": "QRCHDjJxRnB4"
   },
   "outputs": [],
   "source": [
    "import pandas as pd"
   ]
  },
  {
   "cell_type": "code",
   "execution_count": 106,
   "metadata": {
    "colab": {
     "base_uri": "https://localhost:8080/",
     "height": 359
    },
    "id": "HunJ2a3zRtxq",
    "outputId": "5d0ab132-46c7-488e-9d86-1fdb35d28105"
   },
   "outputs": [
    {
     "output_type": "execute_result",
     "data": {
      "text/plain": [
       "   age     sex     bmi  children smoker     region      charges\n",
       "0   19  female  27.900         0    yes  southwest  16884.92400\n",
       "1   18    male  33.770         1     no  southeast   1725.55230\n",
       "2   28    male  33.000         3     no  southeast   4449.46200\n",
       "3   33    male  22.705         0     no  northwest  21984.47061\n",
       "4   32    male  28.880         0     no  northwest   3866.85520\n",
       "5   31  female  25.740         0     no  southeast   3756.62160\n",
       "6   46  female  33.440         1     no  southeast   8240.58960\n",
       "7   37  female  27.740         3     no  northwest   7281.50560\n",
       "8   37    male  29.830         2     no  northeast   6406.41070\n",
       "9   60  female  25.840         0     no  northwest  28923.13692"
      ],
      "text/html": "<div>\n<style scoped>\n    .dataframe tbody tr th:only-of-type {\n        vertical-align: middle;\n    }\n\n    .dataframe tbody tr th {\n        vertical-align: top;\n    }\n\n    .dataframe thead th {\n        text-align: right;\n    }\n</style>\n<table border=\"1\" class=\"dataframe\">\n  <thead>\n    <tr style=\"text-align: right;\">\n      <th></th>\n      <th>age</th>\n      <th>sex</th>\n      <th>bmi</th>\n      <th>children</th>\n      <th>smoker</th>\n      <th>region</th>\n      <th>charges</th>\n    </tr>\n  </thead>\n  <tbody>\n    <tr>\n      <th>0</th>\n      <td>19</td>\n      <td>female</td>\n      <td>27.900</td>\n      <td>0</td>\n      <td>yes</td>\n      <td>southwest</td>\n      <td>16884.92400</td>\n    </tr>\n    <tr>\n      <th>1</th>\n      <td>18</td>\n      <td>male</td>\n      <td>33.770</td>\n      <td>1</td>\n      <td>no</td>\n      <td>southeast</td>\n      <td>1725.55230</td>\n    </tr>\n    <tr>\n      <th>2</th>\n      <td>28</td>\n      <td>male</td>\n      <td>33.000</td>\n      <td>3</td>\n      <td>no</td>\n      <td>southeast</td>\n      <td>4449.46200</td>\n    </tr>\n    <tr>\n      <th>3</th>\n      <td>33</td>\n      <td>male</td>\n      <td>22.705</td>\n      <td>0</td>\n      <td>no</td>\n      <td>northwest</td>\n      <td>21984.47061</td>\n    </tr>\n    <tr>\n      <th>4</th>\n      <td>32</td>\n      <td>male</td>\n      <td>28.880</td>\n      <td>0</td>\n      <td>no</td>\n      <td>northwest</td>\n      <td>3866.85520</td>\n    </tr>\n    <tr>\n      <th>5</th>\n      <td>31</td>\n      <td>female</td>\n      <td>25.740</td>\n      <td>0</td>\n      <td>no</td>\n      <td>southeast</td>\n      <td>3756.62160</td>\n    </tr>\n    <tr>\n      <th>6</th>\n      <td>46</td>\n      <td>female</td>\n      <td>33.440</td>\n      <td>1</td>\n      <td>no</td>\n      <td>southeast</td>\n      <td>8240.58960</td>\n    </tr>\n    <tr>\n      <th>7</th>\n      <td>37</td>\n      <td>female</td>\n      <td>27.740</td>\n      <td>3</td>\n      <td>no</td>\n      <td>northwest</td>\n      <td>7281.50560</td>\n    </tr>\n    <tr>\n      <th>8</th>\n      <td>37</td>\n      <td>male</td>\n      <td>29.830</td>\n      <td>2</td>\n      <td>no</td>\n      <td>northeast</td>\n      <td>6406.41070</td>\n    </tr>\n    <tr>\n      <th>9</th>\n      <td>60</td>\n      <td>female</td>\n      <td>25.840</td>\n      <td>0</td>\n      <td>no</td>\n      <td>northwest</td>\n      <td>28923.13692</td>\n    </tr>\n  </tbody>\n</table>\n</div>"
     },
     "metadata": {},
     "execution_count": 106
    }
   ],
   "source": [
    "insurance = pd.read_csv('https://raw.githubusercontent.com/dhanyahari07/Data_Science/master/insurance.csv')\n",
    "\n",
    "insurance.head(10)"
   ]
  },
  {
   "cell_type": "markdown",
   "metadata": {
    "id": "33W2dX4zTDde"
   },
   "source": [
    "# 1.The largest amount paid by the insurance company last year to any beneficiary . 2 Decimal Place"
   ]
  },
  {
   "cell_type": "code",
   "execution_count": 107,
   "metadata": {
    "colab": {
     "base_uri": "https://localhost:8080/",
     "height": 34
    },
    "id": "F-q8RFloSAQ_",
    "outputId": "b3530f98-84ef-4f8c-bb1b-30c86a81dfaa"
   },
   "outputs": [
    {
     "output_type": "execute_result",
     "data": {
      "text/plain": [
       "63770.43"
      ]
     },
     "metadata": {},
     "execution_count": 107
    }
   ],
   "source": [
    "def max_charge():\n",
    "    # Write your code here\n",
    "    tp=insurance.charges.max()\n",
    "    return round(tp,2)\n",
    "max_charge()"
   ]
  },
  {
   "cell_type": "markdown",
   "metadata": {
    "id": "gei-QhM8TFxn"
   },
   "source": [
    "# 2. A table similar to insurance, but with only the rows for smokers, and without the smoker column."
   ]
  },
  {
   "cell_type": "code",
   "execution_count": 108,
   "metadata": {
    "id": "H3qReVdBSMU5"
   },
   "outputs": [],
   "source": [
    "def new_table():\n",
    "    # Write your code here\n",
    "    df = insurance.loc[insurance['smoker'] == 'yes']\n",
    "    del df['smoker']\n",
    "    return df"
   ]
  },
  {
   "cell_type": "code",
   "execution_count": 109,
   "metadata": {
    "colab": {
     "base_uri": "https://localhost:8080/",
     "height": 419
    },
    "id": "Kcts9rHESlvm",
    "outputId": "f224e2af-af59-47bc-b64b-57e4d2e640e2"
   },
   "outputs": [
    {
     "output_type": "execute_result",
     "data": {
      "text/plain": [
       "      age     sex     bmi  children     region      charges\n",
       "0      19  female  27.900         0  southwest  16884.92400\n",
       "11     62  female  26.290         0  southeast  27808.72510\n",
       "14     27    male  42.130         0  southeast  39611.75770\n",
       "19     30    male  35.300         0  southwest  36837.46700\n",
       "23     34  female  31.920         1  northeast  37701.87680\n",
       "...   ...     ...     ...       ...        ...          ...\n",
       "1313   19  female  34.700         2  southwest  36397.57600\n",
       "1314   30  female  23.655         3  northwest  18765.87545\n",
       "1321   62    male  26.695         0  northeast  28101.33305\n",
       "1323   42  female  40.370         2  southeast  43896.37630\n",
       "1337   61  female  29.070         0  northwest  29141.36030\n",
       "\n",
       "[274 rows x 6 columns]"
      ],
      "text/html": "<div>\n<style scoped>\n    .dataframe tbody tr th:only-of-type {\n        vertical-align: middle;\n    }\n\n    .dataframe tbody tr th {\n        vertical-align: top;\n    }\n\n    .dataframe thead th {\n        text-align: right;\n    }\n</style>\n<table border=\"1\" class=\"dataframe\">\n  <thead>\n    <tr style=\"text-align: right;\">\n      <th></th>\n      <th>age</th>\n      <th>sex</th>\n      <th>bmi</th>\n      <th>children</th>\n      <th>region</th>\n      <th>charges</th>\n    </tr>\n  </thead>\n  <tbody>\n    <tr>\n      <th>0</th>\n      <td>19</td>\n      <td>female</td>\n      <td>27.900</td>\n      <td>0</td>\n      <td>southwest</td>\n      <td>16884.92400</td>\n    </tr>\n    <tr>\n      <th>11</th>\n      <td>62</td>\n      <td>female</td>\n      <td>26.290</td>\n      <td>0</td>\n      <td>southeast</td>\n      <td>27808.72510</td>\n    </tr>\n    <tr>\n      <th>14</th>\n      <td>27</td>\n      <td>male</td>\n      <td>42.130</td>\n      <td>0</td>\n      <td>southeast</td>\n      <td>39611.75770</td>\n    </tr>\n    <tr>\n      <th>19</th>\n      <td>30</td>\n      <td>male</td>\n      <td>35.300</td>\n      <td>0</td>\n      <td>southwest</td>\n      <td>36837.46700</td>\n    </tr>\n    <tr>\n      <th>23</th>\n      <td>34</td>\n      <td>female</td>\n      <td>31.920</td>\n      <td>1</td>\n      <td>northeast</td>\n      <td>37701.87680</td>\n    </tr>\n    <tr>\n      <th>...</th>\n      <td>...</td>\n      <td>...</td>\n      <td>...</td>\n      <td>...</td>\n      <td>...</td>\n      <td>...</td>\n    </tr>\n    <tr>\n      <th>1313</th>\n      <td>19</td>\n      <td>female</td>\n      <td>34.700</td>\n      <td>2</td>\n      <td>southwest</td>\n      <td>36397.57600</td>\n    </tr>\n    <tr>\n      <th>1314</th>\n      <td>30</td>\n      <td>female</td>\n      <td>23.655</td>\n      <td>3</td>\n      <td>northwest</td>\n      <td>18765.87545</td>\n    </tr>\n    <tr>\n      <th>1321</th>\n      <td>62</td>\n      <td>male</td>\n      <td>26.695</td>\n      <td>0</td>\n      <td>northeast</td>\n      <td>28101.33305</td>\n    </tr>\n    <tr>\n      <th>1323</th>\n      <td>42</td>\n      <td>female</td>\n      <td>40.370</td>\n      <td>2</td>\n      <td>southeast</td>\n      <td>43896.37630</td>\n    </tr>\n    <tr>\n      <th>1337</th>\n      <td>61</td>\n      <td>female</td>\n      <td>29.070</td>\n      <td>0</td>\n      <td>northwest</td>\n      <td>29141.36030</td>\n    </tr>\n  </tbody>\n</table>\n<p>274 rows × 6 columns</p>\n</div>"
     },
     "metadata": {},
     "execution_count": 109
    }
   ],
   "source": [
    "new_table()"
   ]
  },
  {
   "cell_type": "markdown",
   "metadata": {
    "id": "OsDZ5mafTgKC"
   },
   "source": [
    "# 3. Add column named predicted_paid that shows the amount we predict to pay to that beneficiary this year, if we predict that their cost this year will be the cost last year increased by 5% to insurance. round to 2 decimal places and enter"
   ]
  },
  {
   "cell_type": "code",
   "execution_count": 110,
   "metadata": {
    "id": "CKH5oFuZS2EF"
   },
   "outputs": [],
   "source": [
    "def predcicted():\n",
    "    insurance[\"predicted_paid\"]=round(insurance.charges.apply(lambda x:x*1.05),2)\n",
    "    return insurance"
   ]
  },
  {
   "cell_type": "code",
   "execution_count": 111,
   "metadata": {
    "colab": {
     "base_uri": "https://localhost:8080/",
     "height": 419
    },
    "id": "aHmBSDN6TwWC",
    "outputId": "7487dbdd-408c-47d1-bc57-35da84e453f7"
   },
   "outputs": [
    {
     "output_type": "execute_result",
     "data": {
      "text/plain": [
       "      age     sex     bmi  children smoker     region      charges  \\\n",
       "0      19  female  27.900         0    yes  southwest  16884.92400   \n",
       "1      18    male  33.770         1     no  southeast   1725.55230   \n",
       "2      28    male  33.000         3     no  southeast   4449.46200   \n",
       "3      33    male  22.705         0     no  northwest  21984.47061   \n",
       "4      32    male  28.880         0     no  northwest   3866.85520   \n",
       "...   ...     ...     ...       ...    ...        ...          ...   \n",
       "1333   50    male  30.970         3     no  northwest  10600.54830   \n",
       "1334   18  female  31.920         0     no  northeast   2205.98080   \n",
       "1335   18  female  36.850         0     no  southeast   1629.83350   \n",
       "1336   21  female  25.800         0     no  southwest   2007.94500   \n",
       "1337   61  female  29.070         0    yes  northwest  29141.36030   \n",
       "\n",
       "      predicted_paid  \n",
       "0           17729.17  \n",
       "1            1811.83  \n",
       "2            4671.94  \n",
       "3           23083.69  \n",
       "4            4060.20  \n",
       "...              ...  \n",
       "1333        11130.58  \n",
       "1334         2316.28  \n",
       "1335         1711.33  \n",
       "1336         2108.34  \n",
       "1337        30598.43  \n",
       "\n",
       "[1338 rows x 8 columns]"
      ],
      "text/html": "<div>\n<style scoped>\n    .dataframe tbody tr th:only-of-type {\n        vertical-align: middle;\n    }\n\n    .dataframe tbody tr th {\n        vertical-align: top;\n    }\n\n    .dataframe thead th {\n        text-align: right;\n    }\n</style>\n<table border=\"1\" class=\"dataframe\">\n  <thead>\n    <tr style=\"text-align: right;\">\n      <th></th>\n      <th>age</th>\n      <th>sex</th>\n      <th>bmi</th>\n      <th>children</th>\n      <th>smoker</th>\n      <th>region</th>\n      <th>charges</th>\n      <th>predicted_paid</th>\n    </tr>\n  </thead>\n  <tbody>\n    <tr>\n      <th>0</th>\n      <td>19</td>\n      <td>female</td>\n      <td>27.900</td>\n      <td>0</td>\n      <td>yes</td>\n      <td>southwest</td>\n      <td>16884.92400</td>\n      <td>17729.17</td>\n    </tr>\n    <tr>\n      <th>1</th>\n      <td>18</td>\n      <td>male</td>\n      <td>33.770</td>\n      <td>1</td>\n      <td>no</td>\n      <td>southeast</td>\n      <td>1725.55230</td>\n      <td>1811.83</td>\n    </tr>\n    <tr>\n      <th>2</th>\n      <td>28</td>\n      <td>male</td>\n      <td>33.000</td>\n      <td>3</td>\n      <td>no</td>\n      <td>southeast</td>\n      <td>4449.46200</td>\n      <td>4671.94</td>\n    </tr>\n    <tr>\n      <th>3</th>\n      <td>33</td>\n      <td>male</td>\n      <td>22.705</td>\n      <td>0</td>\n      <td>no</td>\n      <td>northwest</td>\n      <td>21984.47061</td>\n      <td>23083.69</td>\n    </tr>\n    <tr>\n      <th>4</th>\n      <td>32</td>\n      <td>male</td>\n      <td>28.880</td>\n      <td>0</td>\n      <td>no</td>\n      <td>northwest</td>\n      <td>3866.85520</td>\n      <td>4060.20</td>\n    </tr>\n    <tr>\n      <th>...</th>\n      <td>...</td>\n      <td>...</td>\n      <td>...</td>\n      <td>...</td>\n      <td>...</td>\n      <td>...</td>\n      <td>...</td>\n      <td>...</td>\n    </tr>\n    <tr>\n      <th>1333</th>\n      <td>50</td>\n      <td>male</td>\n      <td>30.970</td>\n      <td>3</td>\n      <td>no</td>\n      <td>northwest</td>\n      <td>10600.54830</td>\n      <td>11130.58</td>\n    </tr>\n    <tr>\n      <th>1334</th>\n      <td>18</td>\n      <td>female</td>\n      <td>31.920</td>\n      <td>0</td>\n      <td>no</td>\n      <td>northeast</td>\n      <td>2205.98080</td>\n      <td>2316.28</td>\n    </tr>\n    <tr>\n      <th>1335</th>\n      <td>18</td>\n      <td>female</td>\n      <td>36.850</td>\n      <td>0</td>\n      <td>no</td>\n      <td>southeast</td>\n      <td>1629.83350</td>\n      <td>1711.33</td>\n    </tr>\n    <tr>\n      <th>1336</th>\n      <td>21</td>\n      <td>female</td>\n      <td>25.800</td>\n      <td>0</td>\n      <td>no</td>\n      <td>southwest</td>\n      <td>2007.94500</td>\n      <td>2108.34</td>\n    </tr>\n    <tr>\n      <th>1337</th>\n      <td>61</td>\n      <td>female</td>\n      <td>29.070</td>\n      <td>0</td>\n      <td>yes</td>\n      <td>northwest</td>\n      <td>29141.36030</td>\n      <td>30598.43</td>\n    </tr>\n  </tbody>\n</table>\n<p>1338 rows × 8 columns</p>\n</div>"
     },
     "metadata": {},
     "execution_count": 111
    }
   ],
   "source": [
    "predcicted()"
   ]
  },
  {
   "cell_type": "markdown",
   "metadata": {
    "id": "GRGJDWQ8URzU"
   },
   "source": [
    "# 4.  A table containing one row per region, listing for each region the total amount of charges paid by the insurance company last year to all beneficiaries in that region. round 1 decimal places\n"
   ]
  },
  {
   "cell_type": "code",
   "execution_count": 112,
   "metadata": {
    "id": "q7-k5iziUJHo"
   },
   "outputs": [],
   "source": [
    "def row_region():\n",
    "  # Write your code here\n",
    "  return round(insurance.pivot_table(index=\"region\",values=\"charges\",aggfunc='sum'),1)"
   ]
  },
  {
   "cell_type": "code",
   "execution_count": 113,
   "metadata": {
    "colab": {
     "base_uri": "https://localhost:8080/",
     "height": 173
    },
    "id": "oYpWi3UoU1w3",
    "outputId": "cf4203eb-9b21-4894-8544-983349e1ce82"
   },
   "outputs": [
    {
     "output_type": "execute_result",
     "data": {
      "text/plain": [
       "             charges\n",
       "region              \n",
       "northeast  4343668.6\n",
       "northwest  4035712.0\n",
       "southeast  5363689.8\n",
       "southwest  4012754.6"
      ],
      "text/html": "<div>\n<style scoped>\n    .dataframe tbody tr th:only-of-type {\n        vertical-align: middle;\n    }\n\n    .dataframe tbody tr th {\n        vertical-align: top;\n    }\n\n    .dataframe thead th {\n        text-align: right;\n    }\n</style>\n<table border=\"1\" class=\"dataframe\">\n  <thead>\n    <tr style=\"text-align: right;\">\n      <th></th>\n      <th>charges</th>\n    </tr>\n    <tr>\n      <th>region</th>\n      <th></th>\n    </tr>\n  </thead>\n  <tbody>\n    <tr>\n      <th>northeast</th>\n      <td>4343668.6</td>\n    </tr>\n    <tr>\n      <th>northwest</th>\n      <td>4035712.0</td>\n    </tr>\n    <tr>\n      <th>southeast</th>\n      <td>5363689.8</td>\n    </tr>\n    <tr>\n      <th>southwest</th>\n      <td>4012754.6</td>\n    </tr>\n  </tbody>\n</table>\n</div>"
     },
     "metadata": {},
     "execution_count": 113
    }
   ],
   "source": [
    "row_region()"
   ]
  },
  {
   "cell_type": "markdown",
   "metadata": {
    "id": "AdMO-BJIVkIx"
   },
   "source": [
    "# 5. The name of the region with the smallest number of beneficiaries."
   ]
  },
  {
   "cell_type": "code",
   "execution_count": 114,
   "metadata": {
    "id": "Ku9jRwkeVWY1"
   },
   "outputs": [],
   "source": [
    "def smallest():\n",
    "  # Write your code here\n",
    "  df1 = insurance['region'].min()\n",
    "  return df1"
   ]
  },
  {
   "cell_type": "code",
   "execution_count": 115,
   "metadata": {
    "colab": {
     "base_uri": "https://localhost:8080/",
     "height": 34
    },
    "id": "2sfYBj5ZVvR8",
    "outputId": "c2728d74-a754-4d2f-eb72-67c18ba8405f"
   },
   "outputs": [
    {
     "output_type": "execute_result",
     "data": {
      "text/plain": [
       "'northeast'"
      ]
     },
     "metadata": {},
     "execution_count": 115
    }
   ],
   "source": [
    "smallest()"
   ]
  },
  {
   "cell_type": "markdown",
   "metadata": {
    "id": "UtDgmq0gXK6y"
   },
   "source": [
    "# 6. Write a function that takes an age as a parameter, and returns the average BMI of all beneficiaries of that age. Round to 2 decimal points"
   ]
  },
  {
   "cell_type": "code",
   "execution_count": 116,
   "metadata": {
    "id": "hlVKa_IMXEwt"
   },
   "outputs": [],
   "source": [
    "def avg_bmi(age):\n",
    "  # Write your code here\n",
    "  data = insurance.loc[insurance['age'] == age]['bmi'].mean()\n",
    "  return round(data, 2)\n"
   ]
  },
  {
   "cell_type": "code",
   "execution_count": 117,
   "metadata": {
    "colab": {
     "base_uri": "https://localhost:8080/",
     "height": 34
    },
    "id": "b6M2PsWCXm-b",
    "outputId": "1f2a51a9-2bd1-4014-dfae-e2bee97b3b2a"
   },
   "outputs": [
    {
     "output_type": "execute_result",
     "data": {
      "text/plain": [
       "31.33"
      ]
     },
     "metadata": {},
     "execution_count": 117
    }
   ],
   "source": [
    "avg_bmi(18)"
   ]
  },
  {
   "cell_type": "code",
   "execution_count": 118,
   "metadata": {
    "colab": {
     "base_uri": "https://localhost:8080/",
     "height": 34
    },
    "id": "uRyQV3iCX4zp",
    "outputId": "7458ed25-3631-4d5e-917a-852c078a1ee2"
   },
   "outputs": [
    {
     "output_type": "execute_result",
     "data": {
      "text/plain": [
       "32.55"
      ]
     },
     "metadata": {},
     "execution_count": 118
    }
   ],
   "source": [
    "avg_bmi(61)"
   ]
  },
  {
   "cell_type": "markdown",
   "metadata": {
    "id": "OLjq6nqvnz0C"
   },
   "source": [
    "# 7. The number of times the charges increased by more than $10,000.00 from one person to next in order"
   ]
  },
  {
   "cell_type": "code",
   "execution_count": 119,
   "metadata": {
    "colab": {
     "base_uri": "https://localhost:8080/",
     "height": 34
    },
    "id": "kGMmLa7DXrYC",
    "outputId": "830efe66-4172-4a2e-a245-fda6544a5cfd"
   },
   "outputs": [
    {
     "output_type": "execute_result",
     "data": {
      "text/plain": [
       "281"
      ]
     },
     "metadata": {},
     "execution_count": 119
    }
   ],
   "source": [
    "ar2=[]\n",
    "def charge_increased():\n",
    "    insurance['charges'].apply(lambda x:ar2.append(x))\n",
    "    ct=0\n",
    "    for i in range(len(ar2)-1):\n",
    "      if ar2[i+1]-ar2[i]>10000:\n",
    "        ct+=1\n",
    "    return ct\n",
    "charge_increased()"
   ]
  },
  {
   "cell_type": "markdown",
   "metadata": {
    "id": "TCfFIpzwqVqb"
   },
   "source": [
    "# 8. Whether or not the charges has ever been $2000.00 or less (your code should evaluate to True or False)."
   ]
  },
  {
   "cell_type": "code",
   "execution_count": 120,
   "metadata": {
    "colab": {
     "base_uri": "https://localhost:8080/",
     "height": 34
    },
    "id": "_RDAvWVHqKxs",
    "outputId": "92fd4e9c-9115-4f3d-a915-2c42e9b9c48f"
   },
   "outputs": [
    {
     "output_type": "execute_result",
     "data": {
      "text/plain": [
       "True"
      ]
     },
     "metadata": {},
     "execution_count": 120
    }
   ],
   "source": [
    "def charge_less():\n",
    "    df3=insurance[insurance[\"charges\"]<=2000.00]\n",
    "    return len(df3.index)>0\n",
    "charge_less()"
   ]
  },
  {
   "cell_type": "markdown",
   "metadata": {
    "id": "Pp3A5e8Dq2wk"
   },
   "source": [
    "# 9. The probability of choosing a charge greater than $2500.00, if I pick one of the charge uniformly at random . 2 decimal place"
   ]
  },
  {
   "cell_type": "code",
   "execution_count": 121,
   "metadata": {
    "colab": {
     "base_uri": "https://localhost:8080/",
     "height": 34
    },
    "id": "Bc7zSIdZqjkM",
    "outputId": "c88ec8a4-36cd-48bf-dfac-518e5ce36ce3"
   },
   "outputs": [
    {
     "output_type": "execute_result",
     "data": {
      "text/plain": [
       "0.89"
      ]
     },
     "metadata": {},
     "execution_count": 121
    }
   ],
   "source": [
    "def prob_greater():\n",
    "    df4 = insurance.loc[insurance['charges'] > 2500]\n",
    "    pg = df4.shape[0]/insurance.shape[0]\n",
    "    return round(pg,2)\n",
    "prob_greater()"
   ]
  },
  {
   "cell_type": "markdown",
   "metadata": {
    "id": "4rGgXIiaVckb"
   },
   "source": [
    "# Import data"
   ]
  },
  {
   "cell_type": "code",
   "execution_count": 122,
   "metadata": {
    "id": "gK5pk_p1rC6o"
   },
   "outputs": [],
   "source": [
    "import pandas as pd\n",
    "trip=pd.read_csv('https://raw.githubusercontent.com/data-8/materials-x18/master/lec/x18/1/trip.csv')"
   ]
  },
  {
   "cell_type": "code",
   "execution_count": 123,
   "metadata": {
    "colab": {
     "base_uri": "https://localhost:8080/",
     "height": 306
    },
    "id": "GOMb-IzQWRMa",
    "outputId": "ec1a94fe-a118-49f8-f332-4c158deaa161"
   },
   "outputs": [
    {
     "output_type": "execute_result",
     "data": {
      "text/plain": [
       "   Trip ID  Duration       Start Date                         Start Station  \\\n",
       "0   913460       765  8/31/2015 23:26  Harry Bridges Plaza (Ferry Building)   \n",
       "1   913459      1036  8/31/2015 23:11           San Antonio Shopping Center   \n",
       "2   913455       307  8/31/2015 23:13                        Post at Kearny   \n",
       "3   913454       409  8/31/2015 23:10                    San Jose City Hall   \n",
       "4   913453       789  8/31/2015 23:09                 Embarcadero at Folsom   \n",
       "\n",
       "   Start Terminal         End Date                               End Station  \\\n",
       "0              50  8/31/2015 23:39  San Francisco Caltrain (Townsend at 4th)   \n",
       "1              31  8/31/2015 23:28                   Mountain View City Hall   \n",
       "2              47  8/31/2015 23:18                         2nd at South Park   \n",
       "3              10  8/31/2015 23:17                       San Salvador at 1st   \n",
       "4              51  8/31/2015 23:22                    Embarcadero at Sansome   \n",
       "\n",
       "   End Terminal  Bike # Subscriber Type Zip Code  \n",
       "0            70     288      Subscriber     2139  \n",
       "1            27      35      Subscriber    95032  \n",
       "2            64     468      Subscriber    94107  \n",
       "3             8      68      Subscriber    95113  \n",
       "4            60     487        Customer     9069  "
      ],
      "text/html": "<div>\n<style scoped>\n    .dataframe tbody tr th:only-of-type {\n        vertical-align: middle;\n    }\n\n    .dataframe tbody tr th {\n        vertical-align: top;\n    }\n\n    .dataframe thead th {\n        text-align: right;\n    }\n</style>\n<table border=\"1\" class=\"dataframe\">\n  <thead>\n    <tr style=\"text-align: right;\">\n      <th></th>\n      <th>Trip ID</th>\n      <th>Duration</th>\n      <th>Start Date</th>\n      <th>Start Station</th>\n      <th>Start Terminal</th>\n      <th>End Date</th>\n      <th>End Station</th>\n      <th>End Terminal</th>\n      <th>Bike #</th>\n      <th>Subscriber Type</th>\n      <th>Zip Code</th>\n    </tr>\n  </thead>\n  <tbody>\n    <tr>\n      <th>0</th>\n      <td>913460</td>\n      <td>765</td>\n      <td>8/31/2015 23:26</td>\n      <td>Harry Bridges Plaza (Ferry Building)</td>\n      <td>50</td>\n      <td>8/31/2015 23:39</td>\n      <td>San Francisco Caltrain (Townsend at 4th)</td>\n      <td>70</td>\n      <td>288</td>\n      <td>Subscriber</td>\n      <td>2139</td>\n    </tr>\n    <tr>\n      <th>1</th>\n      <td>913459</td>\n      <td>1036</td>\n      <td>8/31/2015 23:11</td>\n      <td>San Antonio Shopping Center</td>\n      <td>31</td>\n      <td>8/31/2015 23:28</td>\n      <td>Mountain View City Hall</td>\n      <td>27</td>\n      <td>35</td>\n      <td>Subscriber</td>\n      <td>95032</td>\n    </tr>\n    <tr>\n      <th>2</th>\n      <td>913455</td>\n      <td>307</td>\n      <td>8/31/2015 23:13</td>\n      <td>Post at Kearny</td>\n      <td>47</td>\n      <td>8/31/2015 23:18</td>\n      <td>2nd at South Park</td>\n      <td>64</td>\n      <td>468</td>\n      <td>Subscriber</td>\n      <td>94107</td>\n    </tr>\n    <tr>\n      <th>3</th>\n      <td>913454</td>\n      <td>409</td>\n      <td>8/31/2015 23:10</td>\n      <td>San Jose City Hall</td>\n      <td>10</td>\n      <td>8/31/2015 23:17</td>\n      <td>San Salvador at 1st</td>\n      <td>8</td>\n      <td>68</td>\n      <td>Subscriber</td>\n      <td>95113</td>\n    </tr>\n    <tr>\n      <th>4</th>\n      <td>913453</td>\n      <td>789</td>\n      <td>8/31/2015 23:09</td>\n      <td>Embarcadero at Folsom</td>\n      <td>51</td>\n      <td>8/31/2015 23:22</td>\n      <td>Embarcadero at Sansome</td>\n      <td>60</td>\n      <td>487</td>\n      <td>Customer</td>\n      <td>9069</td>\n    </tr>\n  </tbody>\n</table>\n</div>"
     },
     "metadata": {},
     "execution_count": 123
    }
   ],
   "source": [
    "trip.head()"
   ]
  },
  {
   "cell_type": "markdown",
   "metadata": {},
   "source": [
    "# 10. Trip dataset Average duration of rentals that lasted more than two minutes. 2 decimal point"
   ]
  },
  {
   "cell_type": "code",
   "execution_count": 124,
   "metadata": {
    "colab": {
     "base_uri": "https://localhost:8080/",
     "height": 34
    },
    "id": "x8-IlnxWW71F",
    "outputId": "5467f466-49ac-4bd8-814b-5e0e3c1bd527"
   },
   "outputs": [
    {
     "output_type": "execute_result",
     "data": {
      "text/plain": [
       "1054.17"
      ]
     },
     "metadata": {},
     "execution_count": 124
    }
   ],
   "source": [
    "def avg_duration():\n",
    "    # Write your code here\n",
    "    return round(trip[trip['Duration'] > 120]['Duration'].mean(),2)\n",
    "avg_duration()"
   ]
  },
  {
   "cell_type": "markdown",
   "metadata": {
    "id": "zCSCYMrDXe59"
   },
   "source": [
    "# 11. Name the stations where most rentals ended"
   ]
  },
  {
   "cell_type": "code",
   "execution_count": 130,
   "metadata": {
    "colab": {
     "base_uri": "https://localhost:8080/",
     "height": 35
    },
    "id": "bnARMlc6WlXd",
    "outputId": "b6cc84fe-754a-4c44-bc3d-97f13c24badc"
   },
   "outputs": [
    {
     "output_type": "execute_result",
     "data": {
      "text/plain": [
       "'San Francisco Caltrain (Townsend at 4th)'"
      ]
     },
     "metadata": {},
     "execution_count": 130
    }
   ],
   "source": [
    "def rent_end():\n",
    "    # Write your code here\n",
    "    return trip.groupby('End Station').count().sort_values('Trip ID',ascending=False).index[0]\n",
    "rent_end()\n"
   ]
  },
  {
   "cell_type": "markdown",
   "metadata": {
    "id": "xltRBAMMY439"
   },
   "source": [
    "# 12. The number of stations for which the average duration ending at that station was atleat 300 seconds"
   ]
  },
  {
   "cell_type": "code",
   "execution_count": 126,
   "metadata": {
    "colab": {
     "base_uri": "https://localhost:8080/",
     "height": 34
    },
    "id": "m6mCO2UsX27E",
    "outputId": "d6f67c0a-daff-45c3-ed45-955a961b7bf7"
   },
   "outputs": [
    {
     "output_type": "execute_result",
     "data": {
      "text/plain": [
       "70"
      ]
     },
     "metadata": {},
     "execution_count": 126
    }
   ],
   "source": [
    "def avg_value():\n",
    "    # Write your code here\n",
    "  \n",
    "    return trip[trip['Duration'] >= 300].groupby('End Station').mean().count()[0]\n",
    "avg_value()\n"
   ]
  },
  {
   "cell_type": "markdown",
   "metadata": {
    "id": "MSGU0gQzceru"
   },
   "source": [
    "# 13. The most popular subsciber type where the start terminal and end terminal is the same"
   ]
  },
  {
   "cell_type": "code",
   "execution_count": 127,
   "metadata": {
    "colab": {
     "base_uri": "https://localhost:8080/",
     "height": 35
    },
    "id": "frkdK-mYZrn3",
    "outputId": "9f85f148-8e51-4771-c9a4-057cd3d7acff"
   },
   "outputs": [
    {
     "output_type": "execute_result",
     "data": {
      "text/plain": [
       "'Customer'"
      ]
     },
     "metadata": {},
     "execution_count": 127
    }
   ],
   "source": [
    "def sub_type():\n",
    "    # Write your code here\n",
    "    return trip[trip['Start Terminal'] == trip['End Terminal']]['Subscriber Type'].mode()[0]\n",
    "sub_type()"
   ]
  },
  {
   "cell_type": "markdown",
   "metadata": {
    "id": "PPoIzFf8dChf"
   },
   "source": [
    "# 14. What is the average duration of the most popular bike#. 2 decimal point"
   ]
  },
  {
   "cell_type": "code",
   "execution_count": 128,
   "metadata": {
    "colab": {
     "base_uri": "https://localhost:8080/",
     "height": 34
    },
    "id": "yzf0ur4TafoZ",
    "outputId": "b5f121c8-f73d-4b80-93d4-8d10fe4752c6"
   },
   "outputs": [
    {
     "output_type": "execute_result",
     "data": {
      "text/plain": [
       "898.14"
      ]
     },
     "metadata": {},
     "execution_count": 128
    }
   ],
   "source": [
    "def avg_duration1():\n",
    "    # Write your code here\n",
    "    df6 = trip.loc[trip['Bike #'] == trip['Bike #'].mode()[0]]\n",
    "    return round(df6['Duration'].mean(),2)\n",
    "avg_duration1()"
   ]
  },
  {
   "cell_type": "markdown",
   "metadata": {
    "id": "OfrRSuf9fHzA"
   },
   "source": [
    "# 15. What is the probability that the start station and end station are the same, 2 decimal points"
   ]
  },
  {
   "cell_type": "code",
   "execution_count": 129,
   "metadata": {
    "colab": {
     "base_uri": "https://localhost:8080/",
     "height": 34
    },
    "id": "hVhPCVEefYeN",
    "outputId": "9e3172c8-fc86-4faf-bff2-8e9783897b14"
   },
   "outputs": [
    {
     "output_type": "execute_result",
     "data": {
      "text/plain": [
       "0.03"
      ]
     },
     "metadata": {},
     "execution_count": 129
    }
   ],
   "source": [
    "def prob_equal():\n",
    "    df5=trip[trip['Start Station']==trip['End Station']]\n",
    "    return round(len(df5)/len(trip),2)\n",
    "prob_equal()"
   ]
  },
  {
   "cell_type": "markdown",
   "metadata": {
    "id": "dJpf2Garw6mM"
   },
   "source": [
    "# 16. Least common subsciber with Startimg station as Mountain View City Hall\t"
   ]
  },
  {
   "cell_type": "code",
   "execution_count": 131,
   "metadata": {
    "colab": {
     "base_uri": "https://localhost:8080/",
     "height": 35
    },
    "id": "ZWhMMN60f2ee",
    "outputId": "0f643122-d271-48b4-c98c-1976e5161531"
   },
   "outputs": [
    {
     "output_type": "execute_result",
     "data": {
      "text/plain": [
       "'Customer'"
      ]
     },
     "metadata": {},
     "execution_count": 131
    }
   ],
   "source": [
    "def least_common():\n",
    "    # Write your code here\n",
    "    return trip.loc[trip['Start Station']=='Mountain View City Hall'].groupby('Subscriber Type').count().sort_values(by='Trip ID').index[0]\n",
    "least_common()"
   ]
  },
  {
   "cell_type": "markdown",
   "metadata": {
    "id": "OdMUeENK0v0C"
   },
   "source": [
    "# 17. What proportion of users have most common Subsciber types. 2 decimal places\n"
   ]
  },
  {
   "cell_type": "code",
   "execution_count": 133,
   "metadata": {
    "colab": {
     "base_uri": "https://localhost:8080/",
     "height": 34
    },
    "id": "_HiDrWClxWI2",
    "outputId": "65a80cce-352c-4da9-eaf7-d7565430bd2c"
   },
   "outputs": [
    {
     "output_type": "execute_result",
     "data": {
      "text/plain": [
       "0.88"
      ]
     },
     "metadata": {},
     "execution_count": 133
    }
   ],
   "source": [
    "def proportion_subscriber():\n",
    "    df8=trip[trip['Subscriber Type']==trip['Subscriber Type'].mode()[0]]\n",
    "    a=df8.shape[0]\n",
    "    b=trip.shape[0]\n",
    "    return round(a/b,2)\n",
    "proportion_subscriber()"
   ]
  },
  {
   "cell_type": "markdown",
   "metadata": {
    "id": "OjrXgyYRQeXQ"
   },
   "source": [
    "# Create dataframe"
   ]
  },
  {
   "cell_type": "code",
   "execution_count": 135,
   "metadata": {
    "id": "j66hmobD1op9"
   },
   "outputs": [],
   "source": [
    "a ={'time':['hr=01,rush=no','hr=13,rush=no','hr=08,rush=yes','hr=18,rush=yes'] ,'dt':['May 1','May 3','May 29','May 3'], 'spd':[70,59,37,30]}\n",
    "b={'date':['Jan 1','May 1','Jun 13','May 3'],'day':['Mon','Wed','Sat','Thu']}\n"
   ]
  },
  {
   "cell_type": "code",
   "execution_count": 164,
   "metadata": {
    "id": "cM8fZTIaLZgk"
   },
   "outputs": [],
   "source": [
    "rush=pd.DataFrame(a)\n",
    "date=pd.DataFrame(b)\n",
    "rush[\"hour\"]=rush[\"time\"].str.split(\",\", expand=True)[0].apply(lambda x: int(x[-2:]))\n",
    "rush[\"rush\"]=rush[\"time\"].str.split(\",\", expand=True)[1].apply(lambda x: x[5:])\n",
    "rush.drop(['time'], axis=1,inplace=True)\n",
    "#rush.head()\n",
    "# create a dataframe rush from dictionary a and date from dictionary b\n",
    "\n",
    "  \n"
   ]
  },
  {
   "cell_type": "markdown",
   "metadata": {
    "id": "99Sne95RMeRO"
   },
   "source": [
    "# 18. Calculate the average speed during rush hour.1 decimal point"
   ]
  },
  {
   "cell_type": "code",
   "execution_count": 138,
   "metadata": {
    "colab": {
     "base_uri": "https://localhost:8080/",
     "height": 34
    },
    "id": "2oxM14UaMa8x",
    "outputId": "74ab08b1-04c2-4dfa-8737-66e1517a0c9e"
   },
   "outputs": [
    {
     "output_type": "execute_result",
     "data": {
      "text/plain": [
       "33.5"
      ]
     },
     "metadata": {},
     "execution_count": 138
    }
   ],
   "source": [
    "def avg_speed():\n",
    "    # Write your code here\n",
    "    return round( rush.loc[(rush['time'].str.endswith('yes'))]['spd'].mean(),1)\n",
    "avg_speed()"
   ]
  },
  {
   "cell_type": "markdown",
   "metadata": {
    "id": "btfkNphcMsAr"
   },
   "source": [
    "# 19. Create a table t with one row per recording in rush. Each row should contain the day of week, speed, hour of day as a two-character string, and whether the recording occurred during rush hour (either “yes” or “no”)"
   ]
  },
  {
   "cell_type": "code",
   "execution_count": 166,
   "metadata": {
    "colab": {
     "base_uri": "https://localhost:8080/",
     "height": 142
    },
    "id": "dr79bNWAMjMs",
    "outputId": "61a592ee-1953-4252-c40a-6760214ece7f"
   },
   "outputs": [
    {
     "output_type": "execute_result",
     "data": {
      "text/plain": [
       "   spd  hour rush day\n",
       "0   70     1   no  We\n",
       "1   59    13   no  Th\n",
       "2   30    18  yes  Th"
      ],
      "text/html": "<div>\n<style scoped>\n    .dataframe tbody tr th:only-of-type {\n        vertical-align: middle;\n    }\n\n    .dataframe tbody tr th {\n        vertical-align: top;\n    }\n\n    .dataframe thead th {\n        text-align: right;\n    }\n</style>\n<table border=\"1\" class=\"dataframe\">\n  <thead>\n    <tr style=\"text-align: right;\">\n      <th></th>\n      <th>spd</th>\n      <th>hour</th>\n      <th>rush</th>\n      <th>day</th>\n    </tr>\n  </thead>\n  <tbody>\n    <tr>\n      <th>0</th>\n      <td>70</td>\n      <td>1</td>\n      <td>no</td>\n      <td>We</td>\n    </tr>\n    <tr>\n      <th>1</th>\n      <td>59</td>\n      <td>13</td>\n      <td>no</td>\n      <td>Th</td>\n    </tr>\n    <tr>\n      <th>2</th>\n      <td>30</td>\n      <td>18</td>\n      <td>yes</td>\n      <td>Th</td>\n    </tr>\n  </tbody>\n</table>\n</div>"
     },
     "metadata": {},
     "execution_count": 166
    }
   ],
   "source": [
    "def create_df():\n",
    "  # Write your code here\n",
    "  t=rush.merge(date, left_on='dt', right_on='date')\n",
    "  t=t.drop(['dt','date'], axis=1)\n",
    "  t['day']=t['day'].apply(lambda x:x[:2])\n",
    "  return t\n",
    "create_df()"
   ]
  },
  {
   "cell_type": "markdown",
   "metadata": {
    "id": "Ux_3JaExNpfa"
   },
   "source": [
    "# 20. Use the result of above question as input. Find the minimum speed in a cluster sample with two clusters: take a sample of two unique values in day, then find the minimum speed across all recordings on those days of the week"
   ]
  },
  {
   "cell_type": "code",
   "execution_count": null,
   "metadata": {
    "colab": {
     "base_uri": "https://localhost:8080/",
     "height": 34
    },
    "id": "ZpYOKOuoM4Qq",
    "outputId": "5cc3c6bc-0987-4664-c671-fe9e3be45b7b"
   },
   "outputs": [],
   "source": [
    "def min_speed():\n",
    "  # Write your code here\n",
    "  return # Write your code here\n",
    "min_speed()"
   ]
  }
 ],
 "metadata": {
  "colab": {
   "collapsed_sections": [],
   "name": "EDA_evaluation.ipynb",
   "provenance": []
  },
  "kernelspec": {
   "display_name": "Python 3",
   "language": "python",
   "name": "python3"
  },
  "language_info": {
   "codemirror_mode": {
    "name": "ipython",
    "version": 3
   },
   "file_extension": ".py",
   "mimetype": "text/x-python",
   "name": "python",
   "nbconvert_exporter": "python",
   "pygments_lexer": "ipython3",
   "version": "3.7.6-final"
  }
 },
 "nbformat": 4,
 "nbformat_minor": 1
}