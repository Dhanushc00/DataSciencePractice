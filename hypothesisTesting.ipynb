{
 "metadata": {
  "language_info": {
   "codemirror_mode": {
    "name": "ipython",
    "version": 3
   },
   "file_extension": ".py",
   "mimetype": "text/x-python",
   "name": "python",
   "nbconvert_exporter": "python",
   "pygments_lexer": "ipython3",
   "version": "3.7.6-final"
  },
  "orig_nbformat": 2,
  "kernelspec": {
   "name": "python3",
   "display_name": "Python 3"
  }
 },
 "nbformat": 4,
 "nbformat_minor": 2,
 "cells": [
  {
   "cell_type": "code",
   "execution_count": 1,
   "metadata": {},
   "outputs": [],
   "source": [
    "import numpy as np\n",
    "import scipy.stats as st"
   ]
  },
  {
   "cell_type": "code",
   "execution_count": 2,
   "metadata": {},
   "outputs": [
    {
     "output_type": "execute_result",
     "data": {
      "text/plain": [
       "-1.2815515655446004"
      ]
     },
     "metadata": {},
     "execution_count": 2
    }
   ],
   "source": [
    "#left-tail\n",
    "z_critical=st.norm.ppf(0.10)\n",
    "z_critical"
   ]
  },
  {
   "cell_type": "code",
   "execution_count": 3,
   "metadata": {},
   "outputs": [
    {
     "output_type": "execute_result",
     "data": {
      "text/plain": [
       "1.2815515655446004"
      ]
     },
     "metadata": {},
     "execution_count": 3
    }
   ],
   "source": [
    "#right-tail\n",
    "z_critical=abs(st.norm.ppf(0.10))\n",
    "z_critical"
   ]
  },
  {
   "cell_type": "code",
   "execution_count": 4,
   "metadata": {},
   "outputs": [
    {
     "output_type": "execute_result",
     "data": {
      "text/plain": [
       "1.6448536269514729"
      ]
     },
     "metadata": {},
     "execution_count": 4
    }
   ],
   "source": [
    "#two-tail\n",
    "z_critical=abs(st.norm.ppf(0.10/2))\n",
    "z_critical"
   ]
  },
  {
   "cell_type": "code",
   "execution_count": 5,
   "metadata": {},
   "outputs": [
    {
     "output_type": "execute_result",
     "data": {
      "text/plain": [
       "-1.6448536269514729"
      ]
     },
     "metadata": {},
     "execution_count": 5
    }
   ],
   "source": [
    "#left-tail\n",
    "z_critical=st.norm.ppf(0.05)\n",
    "z_critical"
   ]
  },
  {
   "cell_type": "code",
   "execution_count": 6,
   "metadata": {},
   "outputs": [
    {
     "output_type": "execute_result",
     "data": {
      "text/plain": [
       "1.6448536269514729"
      ]
     },
     "metadata": {},
     "execution_count": 6
    }
   ],
   "source": [
    "#right-tail\n",
    "z_critical=abs(st.norm.ppf(0.05))\n",
    "z_critical"
   ]
  },
  {
   "cell_type": "code",
   "execution_count": 7,
   "metadata": {},
   "outputs": [
    {
     "output_type": "execute_result",
     "data": {
      "text/plain": [
       "2.575829303548901"
      ]
     },
     "metadata": {},
     "execution_count": 7
    }
   ],
   "source": [
    "#two-tail\n",
    "z_critical=abs(st.norm.ppf(0.01/2))\n",
    "z_critical"
   ]
  },
  {
   "cell_type": "code",
   "execution_count": 9,
   "metadata": {},
   "outputs": [
    {
     "output_type": "execute_result",
     "data": {
      "text/plain": [
       "0.011303844238552796"
      ]
     },
     "metadata": {},
     "execution_count": 9
    }
   ],
   "source": [
    "#right-tail\n",
    "p_val=(1-st.norm.cdf(2.28))\n",
    "p_val"
   ]
  },
  {
   "cell_type": "code",
   "execution_count": 10,
   "metadata": {},
   "outputs": [
    {
     "output_type": "execute_result",
     "data": {
      "text/plain": [
       "0.029378980040409397"
      ]
     },
     "metadata": {},
     "execution_count": 10
    }
   ],
   "source": [
    "#two-tail\n",
    "p_val=(1-st.norm.cdf(1.89))\n",
    "p_val"
   ]
  },
  {
   "cell_type": "code",
   "execution_count": 11,
   "metadata": {},
   "outputs": [],
   "source": [
    "n=32\n",
    "xbar=8.2\n",
    "mu=8\n",
    "sigma=0.6\n",
    "alpha=0.05"
   ]
  },
  {
   "cell_type": "code",
   "execution_count": 12,
   "metadata": {},
   "outputs": [
    {
     "output_type": "execute_result",
     "data": {
      "text/plain": [
       "1.8856180831641203"
      ]
     },
     "metadata": {},
     "execution_count": 12
    }
   ],
   "source": [
    "z=(xbar-mu)/(sigma/np.sqrt(n))\n",
    "z"
   ]
  },
  {
   "cell_type": "code",
   "execution_count": 14,
   "metadata": {},
   "outputs": [
    {
     "output_type": "execute_result",
     "data": {
      "text/plain": [
       "0.0593464387919207"
      ]
     },
     "metadata": {},
     "execution_count": 14
    }
   ],
   "source": [
    "p_val=(1-st.norm.cdf(abs(z)))*2\n",
    "p_val"
   ]
  },
  {
   "cell_type": "code",
   "execution_count": 17,
   "metadata": {},
   "outputs": [
    {
     "output_type": "stream",
     "name": "stdout",
     "text": [
      "NUll hypothesis cannot be rejected\n"
     ]
    }
   ],
   "source": [
    "if(p_val>alpha):\n",
    "    print(\"NUll hypothesis cannot be rejected\")\n",
    "else:\n",
    "    print(\"Reject null hypothesis\")"
   ]
  },
  {
   "cell_type": "code",
   "execution_count": 18,
   "metadata": {},
   "outputs": [],
   "source": [
    "n=10\n",
    "df=n-1\n",
    "xbar=17.7\n",
    "mu=16.3\n",
    "s=1.8\n",
    "alpha=0.05"
   ]
  },
  {
   "cell_type": "code",
   "execution_count": 19,
   "metadata": {},
   "outputs": [
    {
     "output_type": "execute_result",
     "data": {
      "text/plain": [
       "2.4595492912420704"
      ]
     },
     "metadata": {},
     "execution_count": 19
    }
   ],
   "source": [
    "t=(xbar-mu)/(s/np.sqrt(n))\n",
    "t"
   ]
  },
  {
   "cell_type": "code",
   "execution_count": 20,
   "metadata": {},
   "outputs": [
    {
     "output_type": "execute_result",
     "data": {
      "text/plain": [
       "-2.262157162740992"
      ]
     },
     "metadata": {},
     "execution_count": 20
    }
   ],
   "source": [
    "t_critical=st.t.ppf(alpha/2,df)\n",
    "t_critical"
   ]
  },
  {
   "cell_type": "code",
   "execution_count": 21,
   "metadata": {},
   "outputs": [],
   "source": [
    "n=15\n",
    "df=n-1\n",
    "xbar=40.6\n",
    "mu=36.7\n",
    "s=6\n",
    "alpha=0.05"
   ]
  },
  {
   "cell_type": "code",
   "execution_count": 22,
   "metadata": {},
   "outputs": [
    {
     "output_type": "execute_result",
     "data": {
      "text/plain": [
       "2.51743917503482"
      ]
     },
     "metadata": {},
     "execution_count": 22
    }
   ],
   "source": [
    "t=(xbar-mu)/(s/np.sqrt(n))\n",
    "t"
   ]
  },
  {
   "cell_type": "code",
   "execution_count": 24,
   "metadata": {},
   "outputs": [
    {
     "output_type": "execute_result",
     "data": {
      "text/plain": [
       "0.012311189053656801"
      ]
     },
     "metadata": {},
     "execution_count": 24
    }
   ],
   "source": [
    "p_val=(1-st.t.cdf(abs(t),df))\n",
    "p_val"
   ]
  },
  {
   "cell_type": "code",
   "execution_count": null,
   "metadata": {},
   "outputs": [],
   "source": []
  }
 ]
}