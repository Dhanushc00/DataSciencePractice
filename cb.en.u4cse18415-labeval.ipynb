{
 "cells": [
  {
   "source": [
    "# 0. Import the data\n",
    "import pandas as pd \n",
    "import numpy as np"
   ],
   "cell_type": "code",
   "metadata": {
    "id": "OPt4O_lBhYFP"
   },
   "execution_count": 27,
   "outputs": []
  },
  {
   "cell_type": "code",
   "execution_count": 28,
   "metadata": {
    "id": "MKq3bMIp5hZk"
   },
   "outputs": [],
   "source": [
    "data={'Refinery Location':['Baytown','Baton Rouge','Texas City','Lake Charles','Whiting','Beaumont','Philadelphia','Pascagoula','Deer Park','Wood River','Port Arthur'],'Company':['Texas ExxonMobil','Louisiana ExxonMobil','Texas BP','Louisiana Citgo','Indiana BP','Texas ExxonMobil','Pennsylvania Sunoco','Mississippi Chevron','Texas partnership','Illinois WRB','Texas Premcor'],'Capacity':['567,000','503,000','467,720','429,500','410,000','348,500','335,000','330,000','329,800','306,000','289,000']}"
   ]
  },
  {
   "cell_type": "markdown",
   "metadata": {},
   "source": [
    "# create data frame"
   ]
  },
  {
   "cell_type": "code",
   "execution_count": 29,
   "metadata": {},
   "outputs": [
    {
     "output_type": "stream",
     "name": "stdout",
     "text": [
      "   Refinery Location               Company Capacity\n0            Baytown      Texas ExxonMobil  567,000\n1        Baton Rouge  Louisiana ExxonMobil  503,000\n2         Texas City              Texas BP  467,720\n3       Lake Charles       Louisiana Citgo  429,500\n4            Whiting            Indiana BP  410,000\n5           Beaumont      Texas ExxonMobil  348,500\n6       Philadelphia   Pennsylvania Sunoco  335,000\n7         Pascagoula   Mississippi Chevron  330,000\n8          Deer Park     Texas partnership  329,800\n9         Wood River          Illinois WRB  306,000\n10       Port Arthur         Texas Premcor  289,000\n"
     ]
    }
   ],
   "source": [
    "# write your code here\n",
    "df=pd.DataFrame(data)\n",
    "print(df)"
   ]
  },
  {
   "cell_type": "markdown",
   "metadata": {
    "id": "2J5LfkWfYFMG"
   },
   "source": [
    "# 1. What are the values of the mean and the median? Compare the answers and state which you prefer as a measure of location for these data and why. 1 decimal place"
   ]
  },
  {
   "cell_type": "code",
   "execution_count": 30,
   "metadata": {
    "colab": {
     "base_uri": "https://localhost:8080/",
     "height": 34
    },
    "id": "H4WZtsYnYtvQ",
    "outputId": "c650fc42-7eef-43cb-a615-423994ca0078"
   },
   "outputs": [
    {
     "output_type": "execute_result",
     "data": {
      "text/plain": [
       "392320.0"
      ]
     },
     "metadata": {},
     "execution_count": 30
    }
   ],
   "source": [
    "def mean_val():\n",
    "  # write your code here\n",
    "  df['Capacity'] = df['Capacity'].str.replace(',','').astype(int)\n",
    "  tp=df['Capacity'].mean()\n",
    "  return round(tp,1)\n",
    "mean_val()"
   ]
  },
  {
   "cell_type": "code",
   "execution_count": 31,
   "metadata": {
    "colab": {
     "base_uri": "https://localhost:8080/",
     "height": 34
    },
    "id": "NUOU0KIYYJrc",
    "outputId": "83409079-5149-4b7a-cbd3-9dda0f073ae4"
   },
   "outputs": [
    {
     "output_type": "execute_result",
     "data": {
      "text/plain": [
       "348500.0"
      ]
     },
     "metadata": {},
     "execution_count": 31
    }
   ],
   "source": [
    "def median_val():\n",
    "    # write your code here\n",
    "    tp=df['Capacity'].median()\n",
    "    return round(tp,1)\n",
    "median_val()"
   ]
  },
  {
   "cell_type": "markdown",
   "metadata": {
    "id": "AOkWufd5heYU"
   },
   "source": [
    "## Why?? Median would be the prefered measure of location as it does not depend on other values. And 0.1 decimal is chosen because we are talking about capacity of a company,So no more than 1 decimal point is required"
   ]
  },
  {
   "cell_type": "markdown",
   "metadata": {
    "id": "t_E7cMfrZP1N"
   },
   "source": [
    "# 2. What are the values of the range and interquartile range? How do they differ? 1 decimal place\n",
    "Ans:Range is between max and min and IQR is between Q1-Q3.From the data we can find that it is equally distributed as IQR has equal value as outside Q1 and Q3"
   ]
  },
  {
   "cell_type": "code",
   "execution_count": 32,
   "metadata": {
    "colab": {
     "base_uri": "https://localhost:8080/",
     "height": 34
    },
    "id": "PKQj99lOZF7f",
    "outputId": "77ac7c21-2c43-4469-c556-66c9554a13a3"
   },
   "outputs": [
    {
     "output_type": "execute_result",
     "data": {
      "text/plain": [
       "278000"
      ]
     },
     "metadata": {},
     "execution_count": 32
    }
   ],
   "source": [
    "def range_val():\n",
    "  # write your code here\n",
    "  tp=df.Capacity.max()-df.Capacity.min()\n",
    "  return round(tp,1)\n",
    "range_val()"
   ]
  },
  {
   "cell_type": "code",
   "execution_count": 33,
   "metadata": {
    "colab": {
     "base_uri": "https://localhost:8080/",
     "height": 51
    },
    "id": "g0fpFU_mZYZ0",
    "outputId": "9c84b7b7-6eee-4d56-b642-22c8b865b017"
   },
   "outputs": [
    {
     "output_type": "execute_result",
     "data": {
      "text/plain": [
       "118710.0"
      ]
     },
     "metadata": {},
     "execution_count": 33
    }
   ],
   "source": [
    "\n",
    "def iqr_val():\n",
    "  temp=df.Capacity.quantile(0.75)-df.Capacity.quantile(0.25)\n",
    "  return round(temp,1)\n",
    "iqr_val()"
   ]
  },
  {
   "cell_type": "markdown",
   "metadata": {
    "id": "aQNsuotiZ751"
   },
   "source": [
    "# 3. What are the values of variance (1 decimal place) and standard deviation(round off to 1 decimal places) for these data?"
   ]
  },
  {
   "cell_type": "code",
   "execution_count": 34,
   "metadata": {
    "colab": {
     "base_uri": "https://localhost:8080/",
     "height": 34
    },
    "id": "S24qSzhGZeOR",
    "outputId": "a2c50c56-3a1e-494b-a526-7cc567acbaa1"
   },
   "outputs": [
    {
     "output_type": "execute_result",
     "data": {
      "text/plain": [
       "90148.6"
      ]
     },
     "metadata": {},
     "execution_count": 34
    }
   ],
   "source": [
    "def std_val():\n",
    "    tp=df['Capacity'].std()\n",
    "    return round(tp,1)\n",
    "std_val()"
   ]
  },
  {
   "cell_type": "code",
   "execution_count": 35,
   "metadata": {
    "colab": {
     "base_uri": "https://localhost:8080/",
     "height": 34
    },
    "id": "Yog613pmaB69",
    "outputId": "f36f0de9-1f5b-46c5-ab0d-efcc6ac4c136"
   },
   "outputs": [
    {
     "output_type": "execute_result",
     "data": {
      "text/plain": [
       "8126773200.0"
      ]
     },
     "metadata": {},
     "execution_count": 35
    }
   ],
   "source": [
    "def variance_val():\n",
    "    tp=df['Capacity'].var()\n",
    "    return round(tp,1)\n",
    "variance_val()"
   ]
  },
  {
   "cell_type": "markdown",
   "metadata": {
    "id": "Hfo_HwxzbwIw"
   },
   "source": [
    "# 4. What is the z score for Pascagoula,Mississippi? What is the z score for Texas City,Texas? Interpret these z scores. Round off to 2 decimal places\n",
    "Ans:Z score of Pascagoula is negative meaning it will be on left side of mean of normal distribution curve and postive meaning it will be towards the right side of the mean of the normal distribution curve "
   ]
  },
  {
   "cell_type": "code",
   "execution_count": 40,
   "metadata": {
    "colab": {
     "base_uri": "https://localhost:8080/",
     "height": 34
    },
    "id": "MAmH7yxlaJO2",
    "outputId": "1c2fb68d-f8fc-4584-fe43-eb648a55d9a4"
   },
   "outputs": [
    {
     "output_type": "execute_result",
     "data": {
      "text/plain": [
       "7   -0.69\n",
       "Name: Capacity, dtype: float64"
      ]
     },
     "metadata": {},
     "execution_count": 40
    }
   ],
   "source": [
    "def z_miss():\n",
    "  # write your code here\n",
    "  tp=df[df['Refinery Location']=='Pascagoula'].Capacity-df.Capacity.mean()\n",
    "  tp1=tp/df.Capacity.std()\n",
    "  return round(tp1,2)\n",
    "z_miss()"
   ]
  },
  {
   "cell_type": "code",
   "execution_count": 39,
   "metadata": {
    "colab": {
     "base_uri": "https://localhost:8080/",
     "height": 34
    },
    "id": "5XuIJY-7b2Ho",
    "outputId": "50f5fce3-22b5-4ecc-e6d8-e949228a7aa2"
   },
   "outputs": [
    {
     "output_type": "execute_result",
     "data": {
      "text/plain": [
       "2    0.84\n",
       "Name: Capacity, dtype: float64"
      ]
     },
     "metadata": {},
     "execution_count": 39
    }
   ],
   "source": [
    "def z_texas():\n",
    "  tp=df[df['Refinery Location']=='Texas City'].Capacity-df.Capacity.mean()\n",
    "  tp2=tp/df.Capacity.std()\n",
    "  return round(tp2,2)# write your code here\n",
    "z_texas()"
   ]
  },
  {
   "cell_type": "markdown",
   "metadata": {
    "id": "2-PFl1qacR51"
   },
   "source": [
    "# 5. Calculate the Pearsonian coefficient of skewness and kurtosis and comment on the skewness and kurtosis of this distribution. Round off to 2 decimal places\n",
    "Ans: Skew is positive,so right is longer and mean median will be greater than mode. Kurtosis is negative meaning it will be flatter and will have the same mean and std"
   ]
  },
  {
   "cell_type": "code",
   "execution_count": 43,
   "metadata": {
    "colab": {
     "base_uri": "https://localhost:8080/",
     "height": 34
    },
    "id": "RehuBE8ScJJH",
    "outputId": "b13c3db1-f633-42df-edad-fd53b3e45d67"
   },
   "outputs": [
    {
     "output_type": "execute_result",
     "data": {
      "text/plain": [
       "1.46"
      ]
     },
     "metadata": {},
     "execution_count": 43
    }
   ],
   "source": [
    "def skew_val():\n",
    "    # write your code here\n",
    "    tp=3*(df.Capacity.mean()-df.Capacity.median())/df.Capacity.std()\n",
    "    return round(tp,2)\n",
    "skew_val()"
   ]
  },
  {
   "cell_type": "code",
   "execution_count": 44,
   "metadata": {
    "colab": {
     "base_uri": "https://localhost:8080/",
     "height": 34
    },
    "id": "owEwgUqOgVux",
    "outputId": "72d29531-a598-4a85-ed71-6c5a70b58ace"
   },
   "outputs": [
    {
     "output_type": "execute_result",
     "data": {
      "text/plain": [
       "-0.48"
      ]
     },
     "metadata": {},
     "execution_count": 44
    }
   ],
   "source": [
    "def kurtosis_val():\n",
    "    # write your code here\n",
    "    tp=df.Capacity.kurtosis()\n",
    "    return round(tp,2)\n",
    "kurtosis_val()"
   ]
  },
  {
   "cell_type": "markdown",
   "metadata": {
    "id": "9Gc6rpnRgR5d"
   },
   "source": [
    "# 6. Assume normal distribution probabilty that the capacity is less than 330000 . Round off to 2 decimal places"
   ]
  },
  {
   "cell_type": "code",
   "execution_count": 55,
   "metadata": {
    "colab": {
     "base_uri": "https://localhost:8080/",
     "height": 34
    },
    "id": "zcuZWSYGepO6",
    "outputId": "91563269-62c2-4297-8388-0180c5029c68"
   },
   "outputs": [
    {
     "output_type": "execute_result",
     "data": {
      "text/plain": [
       "0.27"
      ]
     },
     "metadata": {},
     "execution_count": 55
    }
   ],
   "source": [
    "def probability_val():\n",
    "  # write your code here\n",
    "  tp=df[df['Capacity']<330000]\n",
    "  tp2=len(tp)/float(len(df))\n",
    "  return round(tp2,2)\n",
    "probability_val()"
   ]
  },
  {
   "cell_type": "markdown",
   "metadata": {
    "id": "3ltdFTEQmE2z"
   },
   "source": [
    "\n",
    "---\n",
    "\n",
    "# Times to travel to school (Question 7 to 10)\n",
    "Twenty students from a statistics class each collected a random sample of times on how long it took students to get to class from their homes. All the sample sizes were 30. The resulting means and standard deviations are listed.\n",
    "\n",
    "```\n",
    "means = [22, 31, 18, 27, 20, 17, 26, 34, 23, 29, 27, 24, 14, 29, 37, 23, 26, 21, 30, 29]\n",
    "stdevs = [3.7, 4.6, 2.4, 1.9, 3, 2.8, 1.9, 4.2, 2.6, 2.1, 1.4, 2.2, 3.1, 2.4, 2.8, 2.7, 1.8, 2, 2.2, 2.8]\n",
    "```"
   ]
  },
  {
   "cell_type": "markdown",
   "metadata": {
    "id": "EdAUUg-1awTq"
   },
   "source": [
    "# Using the above information, construct a dataframe named 'tt' in the code block below. Apart from the row index, the dataframe should have two columns namely 'means' and 'stdevs'. Also, use this dataframe to answer the following questions.\n"
   ]
  },
  {
   "cell_type": "code",
   "execution_count": 75,
   "metadata": {
    "id": "v1F3YiV3jV69"
   },
   "outputs": [],
   "source": [
    "# write your code here\n",
    "df2={'means':[22, 31, 18, 27, 20, 17, 26, 34, 23, 29, 27, 24, 14, 29, 37, 23, 26, 21, 30, 29],'stdevs':[3.7, 4.6, 2.4, 1.9, 3, 2.8, 1.9, 4.2, 2.6, 2.1, 1.4, 2.2, 3.1, 2.4, 2.8, 2.7, 1.8, 2, 2.2, 2.8]}\n",
    "tt=pd.DataFrame(df2)"
   ]
  },
  {
   "cell_type": "markdown",
   "metadata": {
    "id": "fAqMqV4cd4W6"
   },
   "source": [
    "# 7. From the values in the dataframe, use pandas functions to print a good estimate for the population mean and standard deviation. Display as a tuple\n"
   ]
  },
  {
   "cell_type": "code",
   "execution_count": 78,
   "metadata": {
    "colab": {
     "base_uri": "https://localhost:8080/",
     "height": 34
    },
    "id": "HTxxKdyLirpi",
    "outputId": "802c5295-f2fd-4a5b-fa61-1b1ced6e5b5f"
   },
   "outputs": [
    {
     "output_type": "execute_result",
     "data": {
      "text/plain": [
       "(25.35, 11.761717561648894)"
      ]
     },
     "metadata": {},
     "execution_count": 78
    }
   ],
   "source": [
    "def estimate_mean_std():\n",
    "    # write your code here\n",
    "    return (tt.means.mean(), tt.stdevs.mean()* np.sqrt(len(tt)))\n",
    "estimate_mean_std()"
   ]
  },
  {
   "cell_type": "markdown",
   "metadata": {
    "id": "iZIIRfOBiucS"
   },
   "source": [
    "# 8. Calculate the mean and standard deviation of the means.  Display as a tuple. 2 decimal places\n"
   ]
  },
  {
   "cell_type": "code",
   "execution_count": 79,
   "metadata": {
    "colab": {
     "base_uri": "https://localhost:8080/",
     "height": 34
    },
    "id": "XNRwm9M0zraG",
    "outputId": "ce209e44-a0c9-4051-ae00-638788d56536"
   },
   "outputs": [
    {
     "output_type": "execute_result",
     "data": {
      "text/plain": [
       "(25.35, 5.78)"
      ]
     },
     "metadata": {},
     "execution_count": 79
    }
   ],
   "source": [
    "def mean_stdev():\n",
    "    # write your code here\n",
    "    tt_mean = round(tt.means.mean(), 2)\n",
    "    tt_std = round(tt.means.std(), 2)\n",
    "    return (tt_mean, tt_std)\n",
    "mean_stdev()"
   ]
  },
  {
   "cell_type": "markdown",
   "metadata": {
    "id": "z7fnBRE4zr-t"
   },
   "source": [
    "# 9. Check the sampling error for students 3, 7, and 14 (Indices 2, 6 and 13).  Display as a tuple"
   ]
  },
  {
   "cell_type": "code",
   "execution_count": 88,
   "metadata": {
    "colab": {
     "base_uri": "https://localhost:8080/",
     "height": 34
    },
    "id": "ahhinaWG09bh",
    "outputId": "4816ac23-5965-462f-a594-bd7b973ecd72"
   },
   "outputs": [
    {
     "output_type": "execute_result",
     "data": {
      "text/plain": [
       "(-12.22, -20.22, -23.22)"
      ]
     },
     "metadata": {},
     "execution_count": 88
    }
   ],
   "source": [
    "def error_val():\n",
    "    std=tt['means'].std()\n",
    "    std_3=std-tt['means'][2]\n",
    "    std_7=std-tt['means'][6]\n",
    "    std_17=std-tt['means'][13]\n",
    "    return round(std_3,2),round(std_7,2), round(std_17,2)\n",
    "error_val()"
   ]
  },
  {
   "cell_type": "markdown",
   "metadata": {
    "id": "L30dA40g2MhM"
   },
   "source": [
    "# 10. Compare the standard deviation of the sample of the 20 means. Is that equal to the standard deviation from student 3 divided by the square root of the sample size? How about for student 7, or 14? (Indices 2, 6 and 13). Print \"True\" or \"False\" boolean value for comparison done for each student.  Display as a tuple\n"
   ]
  },
  {
   "cell_type": "code",
   "execution_count": 87,
   "metadata": {
    "colab": {
     "base_uri": "https://localhost:8080/",
     "height": 34
    },
    "id": "AtKpc8Sx2kMp",
    "outputId": "626d50c8-75af-4c70-f262-6c5962331a00"
   },
   "outputs": [
    {
     "output_type": "execute_result",
     "data": {
      "text/plain": [
       "(False, False, False)"
      ]
     },
     "metadata": {},
     "execution_count": 87
    }
   ],
   "source": [
    "def compare_val():\n",
    "    a = tt['means'].std()\n",
    "    b = tt['stdevs'].iloc[2] / np.sqrt(len(tt))  \n",
    "    c = tt['stdevs'].iloc[6] / np.sqrt(len(tt))\n",
    "    d = tt['stdevs'].iloc[13] / np.sqrt(len(tt))\n",
    "    return(a==b, a==c, a==d)\n",
    "compare_val()"
   ]
  },
  {
   "cell_type": "code",
   "execution_count": null,
   "metadata": {},
   "outputs": [],
   "source": []
  }
 ],
 "metadata": {
  "colab": {
   "collapsed_sections": [],
   "name": "descriptive_eval.ipynb",
   "provenance": []
  },
  "kernelspec": {
   "display_name": "Python 3",
   "language": "python",
   "name": "python3"
  },
  "language_info": {
   "codemirror_mode": {
    "name": "ipython",
    "version": 3
   },
   "file_extension": ".py",
   "mimetype": "text/x-python",
   "name": "python",
   "nbconvert_exporter": "python",
   "pygments_lexer": "ipython3",
   "version": "3.7.6-final"
  }
 },
 "nbformat": 4,
 "nbformat_minor": 1
}